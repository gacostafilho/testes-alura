{
  "nbformat": 4,
  "nbformat_minor": 0,
  "metadata": {
    "colab": {
      "name": "pandas_tratando_dados.ipynb",
      "provenance": [],
      "authorship_tag": "ABX9TyM/Fp3z3BzXgi37+5Fa+zYG",
      "include_colab_link": true
    },
    "kernelspec": {
      "name": "python3",
      "display_name": "Python 3"
    }
  },
  "cells": [
    {
      "cell_type": "markdown",
      "metadata": {
        "id": "view-in-github",
        "colab_type": "text"
      },
      "source": [
        "<a href=\"https://colab.research.google.com/github/gacostafilho/testes-alura/blob/master/pandas_tratando_dados.ipynb\" target=\"_parent\"><img src=\"https://colab.research.google.com/assets/colab-badge.svg\" alt=\"Open In Colab\"/></a>"
      ]
    },
    {
      "cell_type": "code",
      "metadata": {
        "id": "xtLe65bVVm3A",
        "colab_type": "code",
        "colab": {}
      },
      "source": [
        "import pandas as pd\n",
        "import numpy as np\n",
        "import matplotlib.pyplot as plt"
      ],
      "execution_count": null,
      "outputs": []
    },
    {
      "cell_type": "code",
      "metadata": {
        "id": "YltX4jauV64E",
        "colab_type": "code",
        "colab": {
          "base_uri": "https://localhost:8080/",
          "height": 68
        },
        "outputId": "b4992564-87ff-49fb-aab4-9467402b3146"
      },
      "source": [
        "dados = pd.read_csv('aluguel.csv', sep=';')\n",
        "dados.columns"
      ],
      "execution_count": null,
      "outputs": [
        {
          "output_type": "execute_result",
          "data": {
            "text/plain": [
              "Index(['Tipo', 'Bairro', 'Quartos', 'Vagas', 'Suites', 'Area', 'Valor',\n",
              "       'Condominio', 'IPTU'],\n",
              "      dtype='object')"
            ]
          },
          "metadata": {
            "tags": []
          },
          "execution_count": 6
        }
      ]
    },
    {
      "cell_type": "code",
      "metadata": {
        "id": "qPLYvCRZXZCf",
        "colab_type": "code",
        "colab": {
          "base_uri": "https://localhost:8080/",
          "height": 328
        },
        "outputId": "4d88e572-f4b0-47b9-e256-ebe60e6a6068"
      },
      "source": [
        "tipos_de_dados = pd.DataFrame(dados.dtypes, columns=['tipo_dados'])\n",
        "tipos_de_dados"
      ],
      "execution_count": null,
      "outputs": [
        {
          "output_type": "execute_result",
          "data": {
            "text/html": [
              "<div>\n",
              "<style scoped>\n",
              "    .dataframe tbody tr th:only-of-type {\n",
              "        vertical-align: middle;\n",
              "    }\n",
              "\n",
              "    .dataframe tbody tr th {\n",
              "        vertical-align: top;\n",
              "    }\n",
              "\n",
              "    .dataframe thead th {\n",
              "        text-align: right;\n",
              "    }\n",
              "</style>\n",
              "<table border=\"1\" class=\"dataframe\">\n",
              "  <thead>\n",
              "    <tr style=\"text-align: right;\">\n",
              "      <th></th>\n",
              "      <th>tipo_dados</th>\n",
              "    </tr>\n",
              "  </thead>\n",
              "  <tbody>\n",
              "    <tr>\n",
              "      <th>Tipo</th>\n",
              "      <td>object</td>\n",
              "    </tr>\n",
              "    <tr>\n",
              "      <th>Bairro</th>\n",
              "      <td>object</td>\n",
              "    </tr>\n",
              "    <tr>\n",
              "      <th>Quartos</th>\n",
              "      <td>int64</td>\n",
              "    </tr>\n",
              "    <tr>\n",
              "      <th>Vagas</th>\n",
              "      <td>int64</td>\n",
              "    </tr>\n",
              "    <tr>\n",
              "      <th>Suites</th>\n",
              "      <td>int64</td>\n",
              "    </tr>\n",
              "    <tr>\n",
              "      <th>Area</th>\n",
              "      <td>int64</td>\n",
              "    </tr>\n",
              "    <tr>\n",
              "      <th>Valor</th>\n",
              "      <td>float64</td>\n",
              "    </tr>\n",
              "    <tr>\n",
              "      <th>Condominio</th>\n",
              "      <td>float64</td>\n",
              "    </tr>\n",
              "    <tr>\n",
              "      <th>IPTU</th>\n",
              "      <td>float64</td>\n",
              "    </tr>\n",
              "  </tbody>\n",
              "</table>\n",
              "</div>"
            ],
            "text/plain": [
              "           tipo_dados\n",
              "Tipo           object\n",
              "Bairro         object\n",
              "Quartos         int64\n",
              "Vagas           int64\n",
              "Suites          int64\n",
              "Area            int64\n",
              "Valor         float64\n",
              "Condominio    float64\n",
              "IPTU          float64"
            ]
          },
          "metadata": {
            "tags": []
          },
          "execution_count": 5
        }
      ]
    },
    {
      "cell_type": "code",
      "metadata": {
        "id": "ztjPBQrHUaBe",
        "colab_type": "code",
        "colab": {}
      },
      "source": [
        "tipo_imovel = dados['Tipo']\n",
        "tipo_imovel = pd.DataFrame(tipo_imovel.drop_duplicates())"
      ],
      "execution_count": null,
      "outputs": []
    },
    {
      "cell_type": "code",
      "metadata": {
        "id": "j-GazoptVJL2",
        "colab_type": "code",
        "colab": {
          "base_uri": "https://localhost:8080/",
          "height": 731
        },
        "outputId": "9785bd42-e5e3-4260-cef6-401d6be594f3"
      },
      "source": [
        "tipo_imovel.index = range(tipo_imovel.shape[0])\n",
        "tipo_imovel"
      ],
      "execution_count": null,
      "outputs": [
        {
          "output_type": "execute_result",
          "data": {
            "text/html": [
              "<div>\n",
              "<style scoped>\n",
              "    .dataframe tbody tr th:only-of-type {\n",
              "        vertical-align: middle;\n",
              "    }\n",
              "\n",
              "    .dataframe tbody tr th {\n",
              "        vertical-align: top;\n",
              "    }\n",
              "\n",
              "    .dataframe thead th {\n",
              "        text-align: right;\n",
              "    }\n",
              "</style>\n",
              "<table border=\"1\" class=\"dataframe\">\n",
              "  <thead>\n",
              "    <tr style=\"text-align: right;\">\n",
              "      <th></th>\n",
              "      <th>Tipo</th>\n",
              "    </tr>\n",
              "  </thead>\n",
              "  <tbody>\n",
              "    <tr>\n",
              "      <th>0</th>\n",
              "      <td>Quitinete</td>\n",
              "    </tr>\n",
              "    <tr>\n",
              "      <th>1</th>\n",
              "      <td>Casa</td>\n",
              "    </tr>\n",
              "    <tr>\n",
              "      <th>2</th>\n",
              "      <td>Conjunto Comercial/Sala</td>\n",
              "    </tr>\n",
              "    <tr>\n",
              "      <th>3</th>\n",
              "      <td>Apartamento</td>\n",
              "    </tr>\n",
              "    <tr>\n",
              "      <th>4</th>\n",
              "      <td>Casa de Condomínio</td>\n",
              "    </tr>\n",
              "    <tr>\n",
              "      <th>5</th>\n",
              "      <td>Prédio Inteiro</td>\n",
              "    </tr>\n",
              "    <tr>\n",
              "      <th>6</th>\n",
              "      <td>Flat</td>\n",
              "    </tr>\n",
              "    <tr>\n",
              "      <th>7</th>\n",
              "      <td>Loja/Salão</td>\n",
              "    </tr>\n",
              "    <tr>\n",
              "      <th>8</th>\n",
              "      <td>Galpão/Depósito/Armazém</td>\n",
              "    </tr>\n",
              "    <tr>\n",
              "      <th>9</th>\n",
              "      <td>Casa Comercial</td>\n",
              "    </tr>\n",
              "    <tr>\n",
              "      <th>10</th>\n",
              "      <td>Casa de Vila</td>\n",
              "    </tr>\n",
              "    <tr>\n",
              "      <th>11</th>\n",
              "      <td>Terreno Padrão</td>\n",
              "    </tr>\n",
              "    <tr>\n",
              "      <th>12</th>\n",
              "      <td>Box/Garagem</td>\n",
              "    </tr>\n",
              "    <tr>\n",
              "      <th>13</th>\n",
              "      <td>Loft</td>\n",
              "    </tr>\n",
              "    <tr>\n",
              "      <th>14</th>\n",
              "      <td>Loja Shopping/ Ct Comercial</td>\n",
              "    </tr>\n",
              "    <tr>\n",
              "      <th>15</th>\n",
              "      <td>Chácara</td>\n",
              "    </tr>\n",
              "    <tr>\n",
              "      <th>16</th>\n",
              "      <td>Loteamento/Condomínio</td>\n",
              "    </tr>\n",
              "    <tr>\n",
              "      <th>17</th>\n",
              "      <td>Sítio</td>\n",
              "    </tr>\n",
              "    <tr>\n",
              "      <th>18</th>\n",
              "      <td>Pousada/Chalé</td>\n",
              "    </tr>\n",
              "    <tr>\n",
              "      <th>19</th>\n",
              "      <td>Studio</td>\n",
              "    </tr>\n",
              "    <tr>\n",
              "      <th>20</th>\n",
              "      <td>Hotel</td>\n",
              "    </tr>\n",
              "    <tr>\n",
              "      <th>21</th>\n",
              "      <td>Indústria</td>\n",
              "    </tr>\n",
              "  </tbody>\n",
              "</table>\n",
              "</div>"
            ],
            "text/plain": [
              "                           Tipo\n",
              "0                     Quitinete\n",
              "1                          Casa\n",
              "2       Conjunto Comercial/Sala\n",
              "3                   Apartamento\n",
              "4            Casa de Condomínio\n",
              "5                Prédio Inteiro\n",
              "6                          Flat\n",
              "7                    Loja/Salão\n",
              "8       Galpão/Depósito/Armazém\n",
              "9                Casa Comercial\n",
              "10                 Casa de Vila\n",
              "11               Terreno Padrão\n",
              "12                  Box/Garagem\n",
              "13                         Loft\n",
              "14  Loja Shopping/ Ct Comercial\n",
              "15                      Chácara\n",
              "16        Loteamento/Condomínio\n",
              "17                        Sítio\n",
              "18                Pousada/Chalé\n",
              "19                       Studio\n",
              "20                        Hotel\n",
              "21                    Indústria"
            ]
          },
          "metadata": {
            "tags": []
          },
          "execution_count": 7
        }
      ]
    },
    {
      "cell_type": "code",
      "metadata": {
        "id": "XfEnkQF1ZFQ5",
        "colab_type": "code",
        "colab": {
          "base_uri": "https://localhost:8080/",
          "height": 142
        },
        "outputId": "323d5861-1587-4df9-852b-5218f20d4c20"
      },
      "source": [
        "data = [[1,2,3],[1,2,3],[1,2,3]]\n",
        "df1 = pd.DataFrame(data=data)\n",
        "df1[df1 > 0 ] = 'A'\n",
        "df1"
      ],
      "execution_count": null,
      "outputs": [
        {
          "output_type": "execute_result",
          "data": {
            "text/html": [
              "<div>\n",
              "<style scoped>\n",
              "    .dataframe tbody tr th:only-of-type {\n",
              "        vertical-align: middle;\n",
              "    }\n",
              "\n",
              "    .dataframe tbody tr th {\n",
              "        vertical-align: top;\n",
              "    }\n",
              "\n",
              "    .dataframe thead th {\n",
              "        text-align: right;\n",
              "    }\n",
              "</style>\n",
              "<table border=\"1\" class=\"dataframe\">\n",
              "  <thead>\n",
              "    <tr style=\"text-align: right;\">\n",
              "      <th></th>\n",
              "      <th>0</th>\n",
              "      <th>1</th>\n",
              "      <th>2</th>\n",
              "    </tr>\n",
              "  </thead>\n",
              "  <tbody>\n",
              "    <tr>\n",
              "      <th>0</th>\n",
              "      <td>A</td>\n",
              "      <td>A</td>\n",
              "      <td>A</td>\n",
              "    </tr>\n",
              "    <tr>\n",
              "      <th>1</th>\n",
              "      <td>A</td>\n",
              "      <td>A</td>\n",
              "      <td>A</td>\n",
              "    </tr>\n",
              "    <tr>\n",
              "      <th>2</th>\n",
              "      <td>A</td>\n",
              "      <td>A</td>\n",
              "      <td>A</td>\n",
              "    </tr>\n",
              "  </tbody>\n",
              "</table>\n",
              "</div>"
            ],
            "text/plain": [
              "   0  1  2\n",
              "0  A  A  A\n",
              "1  A  A  A\n",
              "2  A  A  A"
            ]
          },
          "metadata": {
            "tags": []
          },
          "execution_count": 8
        }
      ]
    },
    {
      "cell_type": "code",
      "metadata": {
        "id": "_NQZLxDsZiFy",
        "colab_type": "code",
        "colab": {
          "base_uri": "https://localhost:8080/",
          "height": 142
        },
        "outputId": "267205f8-32a5-4ca7-d980-e270ab4bbaff"
      },
      "source": [
        "data = [[1,2,3],[1,2,3],[1,2,3]]\n",
        "df2 = pd.DataFrame(data=data)\n",
        "df2[df2 > 0 ] = 'B'\n",
        "df2"
      ],
      "execution_count": null,
      "outputs": [
        {
          "output_type": "execute_result",
          "data": {
            "text/html": [
              "<div>\n",
              "<style scoped>\n",
              "    .dataframe tbody tr th:only-of-type {\n",
              "        vertical-align: middle;\n",
              "    }\n",
              "\n",
              "    .dataframe tbody tr th {\n",
              "        vertical-align: top;\n",
              "    }\n",
              "\n",
              "    .dataframe thead th {\n",
              "        text-align: right;\n",
              "    }\n",
              "</style>\n",
              "<table border=\"1\" class=\"dataframe\">\n",
              "  <thead>\n",
              "    <tr style=\"text-align: right;\">\n",
              "      <th></th>\n",
              "      <th>0</th>\n",
              "      <th>1</th>\n",
              "      <th>2</th>\n",
              "    </tr>\n",
              "  </thead>\n",
              "  <tbody>\n",
              "    <tr>\n",
              "      <th>0</th>\n",
              "      <td>B</td>\n",
              "      <td>B</td>\n",
              "      <td>B</td>\n",
              "    </tr>\n",
              "    <tr>\n",
              "      <th>1</th>\n",
              "      <td>B</td>\n",
              "      <td>B</td>\n",
              "      <td>B</td>\n",
              "    </tr>\n",
              "    <tr>\n",
              "      <th>2</th>\n",
              "      <td>B</td>\n",
              "      <td>B</td>\n",
              "      <td>B</td>\n",
              "    </tr>\n",
              "  </tbody>\n",
              "</table>\n",
              "</div>"
            ],
            "text/plain": [
              "   0  1  2\n",
              "0  B  B  B\n",
              "1  B  B  B\n",
              "2  B  B  B"
            ]
          },
          "metadata": {
            "tags": []
          },
          "execution_count": 9
        }
      ]
    },
    {
      "cell_type": "code",
      "metadata": {
        "id": "VKqqz665Zmhn",
        "colab_type": "code",
        "colab": {
          "base_uri": "https://localhost:8080/",
          "height": 142
        },
        "outputId": "6c3ae8ad-bd45-4bdb-f3ae-99bc771296ee"
      },
      "source": [
        "df3 = pd.concat([df1, df2], axis=1)\n",
        "df3"
      ],
      "execution_count": null,
      "outputs": [
        {
          "output_type": "execute_result",
          "data": {
            "text/html": [
              "<div>\n",
              "<style scoped>\n",
              "    .dataframe tbody tr th:only-of-type {\n",
              "        vertical-align: middle;\n",
              "    }\n",
              "\n",
              "    .dataframe tbody tr th {\n",
              "        vertical-align: top;\n",
              "    }\n",
              "\n",
              "    .dataframe thead th {\n",
              "        text-align: right;\n",
              "    }\n",
              "</style>\n",
              "<table border=\"1\" class=\"dataframe\">\n",
              "  <thead>\n",
              "    <tr style=\"text-align: right;\">\n",
              "      <th></th>\n",
              "      <th>0</th>\n",
              "      <th>1</th>\n",
              "      <th>2</th>\n",
              "      <th>0</th>\n",
              "      <th>1</th>\n",
              "      <th>2</th>\n",
              "    </tr>\n",
              "  </thead>\n",
              "  <tbody>\n",
              "    <tr>\n",
              "      <th>0</th>\n",
              "      <td>A</td>\n",
              "      <td>A</td>\n",
              "      <td>A</td>\n",
              "      <td>B</td>\n",
              "      <td>B</td>\n",
              "      <td>B</td>\n",
              "    </tr>\n",
              "    <tr>\n",
              "      <th>1</th>\n",
              "      <td>A</td>\n",
              "      <td>A</td>\n",
              "      <td>A</td>\n",
              "      <td>B</td>\n",
              "      <td>B</td>\n",
              "      <td>B</td>\n",
              "    </tr>\n",
              "    <tr>\n",
              "      <th>2</th>\n",
              "      <td>A</td>\n",
              "      <td>A</td>\n",
              "      <td>A</td>\n",
              "      <td>B</td>\n",
              "      <td>B</td>\n",
              "      <td>B</td>\n",
              "    </tr>\n",
              "  </tbody>\n",
              "</table>\n",
              "</div>"
            ],
            "text/plain": [
              "   0  1  2  0  1  2\n",
              "0  A  A  A  B  B  B\n",
              "1  A  A  A  B  B  B\n",
              "2  A  A  A  B  B  B"
            ]
          },
          "metadata": {
            "tags": []
          },
          "execution_count": 10
        }
      ]
    },
    {
      "cell_type": "code",
      "metadata": {
        "id": "JyZbXWg8b-0C",
        "colab_type": "code",
        "colab": {
          "base_uri": "https://localhost:8080/",
          "height": 111
        },
        "outputId": "5b4c2cca-812b-445d-f7f1-1fb555d1117c"
      },
      "source": [
        "dados = [[1, 2, 3], [4, 5, 6]]\n",
        "index = 'X,Y'.split(',')\n",
        "columns = list('CBA')[::-1]\n",
        "df = pd.DataFrame(dados, index, columns)\n",
        "df"
      ],
      "execution_count": null,
      "outputs": [
        {
          "output_type": "execute_result",
          "data": {
            "text/html": [
              "<div>\n",
              "<style scoped>\n",
              "    .dataframe tbody tr th:only-of-type {\n",
              "        vertical-align: middle;\n",
              "    }\n",
              "\n",
              "    .dataframe tbody tr th {\n",
              "        vertical-align: top;\n",
              "    }\n",
              "\n",
              "    .dataframe thead th {\n",
              "        text-align: right;\n",
              "    }\n",
              "</style>\n",
              "<table border=\"1\" class=\"dataframe\">\n",
              "  <thead>\n",
              "    <tr style=\"text-align: right;\">\n",
              "      <th></th>\n",
              "      <th>A</th>\n",
              "      <th>B</th>\n",
              "      <th>C</th>\n",
              "    </tr>\n",
              "  </thead>\n",
              "  <tbody>\n",
              "    <tr>\n",
              "      <th>X</th>\n",
              "      <td>1</td>\n",
              "      <td>2</td>\n",
              "      <td>3</td>\n",
              "    </tr>\n",
              "    <tr>\n",
              "      <th>Y</th>\n",
              "      <td>4</td>\n",
              "      <td>5</td>\n",
              "      <td>6</td>\n",
              "    </tr>\n",
              "  </tbody>\n",
              "</table>\n",
              "</div>"
            ],
            "text/plain": [
              "   A  B  C\n",
              "X  1  2  3\n",
              "Y  4  5  6"
            ]
          },
          "metadata": {
            "tags": []
          },
          "execution_count": 11
        }
      ]
    },
    {
      "cell_type": "code",
      "metadata": {
        "id": "asGyJBIkEpjn",
        "colab_type": "code",
        "colab": {
          "base_uri": "https://localhost:8080/",
          "height": 391
        },
        "outputId": "6ff2b1ae-955a-4f03-b5e6-121897f3a4d3"
      },
      "source": [
        "list(dados['Tipo'].drop_duplicates())"
      ],
      "execution_count": null,
      "outputs": [
        {
          "output_type": "execute_result",
          "data": {
            "text/plain": [
              "['Quitinete',\n",
              " 'Casa',\n",
              " 'Conjunto Comercial/Sala',\n",
              " 'Apartamento',\n",
              " 'Casa de Condomínio',\n",
              " 'Prédio Inteiro',\n",
              " 'Flat',\n",
              " 'Loja/Salão',\n",
              " 'Galpão/Depósito/Armazém',\n",
              " 'Casa Comercial',\n",
              " 'Casa de Vila',\n",
              " 'Terreno Padrão',\n",
              " 'Box/Garagem',\n",
              " 'Loft',\n",
              " 'Loja Shopping/ Ct Comercial',\n",
              " 'Chácara',\n",
              " 'Loteamento/Condomínio',\n",
              " 'Sítio',\n",
              " 'Pousada/Chalé',\n",
              " 'Studio',\n",
              " 'Hotel',\n",
              " 'Indústria']"
            ]
          },
          "metadata": {
            "tags": []
          },
          "execution_count": 18
        }
      ]
    },
    {
      "cell_type": "code",
      "metadata": {
        "id": "hr9VxdxdFrJq",
        "colab_type": "code",
        "colab": {
          "base_uri": "https://localhost:8080/",
          "height": 170
        },
        "outputId": "eddfe6f3-9f38-4a9c-e0fa-3510b0f4ddb6"
      },
      "source": [
        "dados_residencial = ['Quitinete',\n",
        " 'Casa',\n",
        " 'Apartamento',\n",
        " 'Casa de Condomínio',\n",
        " 'Flat',\n",
        " 'Casa de Vila',\n",
        " 'Loft',\n",
        " 'Sítio',\n",
        " 'Studio']\n",
        "dados_residencial"
      ],
      "execution_count": null,
      "outputs": [
        {
          "output_type": "execute_result",
          "data": {
            "text/plain": [
              "['Quitinete',\n",
              " 'Casa',\n",
              " 'Apartamento',\n",
              " 'Casa de Condomínio',\n",
              " 'Flat',\n",
              " 'Casa de Vila',\n",
              " 'Loft',\n",
              " 'Sítio',\n",
              " 'Studio']"
            ]
          },
          "metadata": {
            "tags": []
          },
          "execution_count": 8
        }
      ]
    },
    {
      "cell_type": "code",
      "metadata": {
        "id": "1LVzM5eWGQ4m",
        "colab_type": "code",
        "colab": {
          "base_uri": "https://localhost:8080/",
          "height": 359
        },
        "outputId": "8310c594-834e-4566-d617-711363751aea"
      },
      "source": [
        "residencias =dados['Tipo'].isin(dados_residencial)\n",
        "dados_residencial=dados[residencias]\n",
        "dados_residencial.head(10)"
      ],
      "execution_count": null,
      "outputs": [
        {
          "output_type": "execute_result",
          "data": {
            "text/html": [
              "<div>\n",
              "<style scoped>\n",
              "    .dataframe tbody tr th:only-of-type {\n",
              "        vertical-align: middle;\n",
              "    }\n",
              "\n",
              "    .dataframe tbody tr th {\n",
              "        vertical-align: top;\n",
              "    }\n",
              "\n",
              "    .dataframe thead th {\n",
              "        text-align: right;\n",
              "    }\n",
              "</style>\n",
              "<table border=\"1\" class=\"dataframe\">\n",
              "  <thead>\n",
              "    <tr style=\"text-align: right;\">\n",
              "      <th></th>\n",
              "      <th>Tipo</th>\n",
              "      <th>Bairro</th>\n",
              "      <th>Quartos</th>\n",
              "      <th>Vagas</th>\n",
              "      <th>Suites</th>\n",
              "      <th>Area</th>\n",
              "      <th>Valor</th>\n",
              "      <th>Condominio</th>\n",
              "      <th>IPTU</th>\n",
              "    </tr>\n",
              "  </thead>\n",
              "  <tbody>\n",
              "    <tr>\n",
              "      <th>0</th>\n",
              "      <td>Quitinete</td>\n",
              "      <td>Copacabana</td>\n",
              "      <td>1</td>\n",
              "      <td>0</td>\n",
              "      <td>0</td>\n",
              "      <td>40</td>\n",
              "      <td>1700.0</td>\n",
              "      <td>500.0</td>\n",
              "      <td>60.0</td>\n",
              "    </tr>\n",
              "    <tr>\n",
              "      <th>1</th>\n",
              "      <td>Casa</td>\n",
              "      <td>Jardim Botânico</td>\n",
              "      <td>2</td>\n",
              "      <td>0</td>\n",
              "      <td>1</td>\n",
              "      <td>100</td>\n",
              "      <td>7000.0</td>\n",
              "      <td>NaN</td>\n",
              "      <td>NaN</td>\n",
              "    </tr>\n",
              "    <tr>\n",
              "      <th>3</th>\n",
              "      <td>Apartamento</td>\n",
              "      <td>Centro</td>\n",
              "      <td>1</td>\n",
              "      <td>0</td>\n",
              "      <td>0</td>\n",
              "      <td>15</td>\n",
              "      <td>800.0</td>\n",
              "      <td>390.0</td>\n",
              "      <td>20.0</td>\n",
              "    </tr>\n",
              "    <tr>\n",
              "      <th>4</th>\n",
              "      <td>Apartamento</td>\n",
              "      <td>Higienópolis</td>\n",
              "      <td>1</td>\n",
              "      <td>0</td>\n",
              "      <td>0</td>\n",
              "      <td>48</td>\n",
              "      <td>800.0</td>\n",
              "      <td>230.0</td>\n",
              "      <td>NaN</td>\n",
              "    </tr>\n",
              "    <tr>\n",
              "      <th>5</th>\n",
              "      <td>Apartamento</td>\n",
              "      <td>Vista Alegre</td>\n",
              "      <td>3</td>\n",
              "      <td>1</td>\n",
              "      <td>0</td>\n",
              "      <td>70</td>\n",
              "      <td>1200.0</td>\n",
              "      <td>NaN</td>\n",
              "      <td>NaN</td>\n",
              "    </tr>\n",
              "    <tr>\n",
              "      <th>6</th>\n",
              "      <td>Apartamento</td>\n",
              "      <td>Cachambi</td>\n",
              "      <td>2</td>\n",
              "      <td>0</td>\n",
              "      <td>0</td>\n",
              "      <td>50</td>\n",
              "      <td>1300.0</td>\n",
              "      <td>301.0</td>\n",
              "      <td>17.0</td>\n",
              "    </tr>\n",
              "    <tr>\n",
              "      <th>7</th>\n",
              "      <td>Casa de Condomínio</td>\n",
              "      <td>Barra da Tijuca</td>\n",
              "      <td>5</td>\n",
              "      <td>4</td>\n",
              "      <td>5</td>\n",
              "      <td>750</td>\n",
              "      <td>22000.0</td>\n",
              "      <td>NaN</td>\n",
              "      <td>NaN</td>\n",
              "    </tr>\n",
              "    <tr>\n",
              "      <th>8</th>\n",
              "      <td>Casa de Condomínio</td>\n",
              "      <td>Ramos</td>\n",
              "      <td>2</td>\n",
              "      <td>2</td>\n",
              "      <td>0</td>\n",
              "      <td>65</td>\n",
              "      <td>1000.0</td>\n",
              "      <td>NaN</td>\n",
              "      <td>NaN</td>\n",
              "    </tr>\n",
              "    <tr>\n",
              "      <th>10</th>\n",
              "      <td>Apartamento</td>\n",
              "      <td>Centro</td>\n",
              "      <td>1</td>\n",
              "      <td>0</td>\n",
              "      <td>0</td>\n",
              "      <td>36</td>\n",
              "      <td>1200.0</td>\n",
              "      <td>NaN</td>\n",
              "      <td>NaN</td>\n",
              "    </tr>\n",
              "    <tr>\n",
              "      <th>11</th>\n",
              "      <td>Apartamento</td>\n",
              "      <td>Grajaú</td>\n",
              "      <td>2</td>\n",
              "      <td>1</td>\n",
              "      <td>0</td>\n",
              "      <td>70</td>\n",
              "      <td>1500.0</td>\n",
              "      <td>642.0</td>\n",
              "      <td>74.0</td>\n",
              "    </tr>\n",
              "  </tbody>\n",
              "</table>\n",
              "</div>"
            ],
            "text/plain": [
              "                  Tipo           Bairro  Quartos  ...    Valor  Condominio  IPTU\n",
              "0            Quitinete       Copacabana        1  ...   1700.0       500.0  60.0\n",
              "1                 Casa  Jardim Botânico        2  ...   7000.0         NaN   NaN\n",
              "3          Apartamento           Centro        1  ...    800.0       390.0  20.0\n",
              "4          Apartamento     Higienópolis        1  ...    800.0       230.0   NaN\n",
              "5          Apartamento     Vista Alegre        3  ...   1200.0         NaN   NaN\n",
              "6          Apartamento         Cachambi        2  ...   1300.0       301.0  17.0\n",
              "7   Casa de Condomínio  Barra da Tijuca        5  ...  22000.0         NaN   NaN\n",
              "8   Casa de Condomínio            Ramos        2  ...   1000.0         NaN   NaN\n",
              "10         Apartamento           Centro        1  ...   1200.0         NaN   NaN\n",
              "11         Apartamento           Grajaú        2  ...   1500.0       642.0  74.0\n",
              "\n",
              "[10 rows x 9 columns]"
            ]
          },
          "metadata": {
            "tags": []
          },
          "execution_count": 9
        }
      ]
    },
    {
      "cell_type": "code",
      "metadata": {
        "id": "cvDlPcQHHM3w",
        "colab_type": "code",
        "colab": {}
      },
      "source": [
        "dados_residencial.to_csv('aluguel_residencial.csv', sep=\";\", index=False)"
      ],
      "execution_count": null,
      "outputs": []
    },
    {
      "cell_type": "code",
      "metadata": {
        "id": "FOGIk-MoIWR0",
        "colab_type": "code",
        "colab": {
          "base_uri": "https://localhost:8080/",
          "height": 359
        },
        "outputId": "8f502d52-95d3-4a34-ad06-aaca04ca5963"
      },
      "source": [
        "aluguel_residencial = pd.read_csv('aluguel_residencial.csv', sep=';')\n",
        "aluguel_residencial.head(10)"
      ],
      "execution_count": null,
      "outputs": [
        {
          "output_type": "execute_result",
          "data": {
            "text/html": [
              "<div>\n",
              "<style scoped>\n",
              "    .dataframe tbody tr th:only-of-type {\n",
              "        vertical-align: middle;\n",
              "    }\n",
              "\n",
              "    .dataframe tbody tr th {\n",
              "        vertical-align: top;\n",
              "    }\n",
              "\n",
              "    .dataframe thead th {\n",
              "        text-align: right;\n",
              "    }\n",
              "</style>\n",
              "<table border=\"1\" class=\"dataframe\">\n",
              "  <thead>\n",
              "    <tr style=\"text-align: right;\">\n",
              "      <th></th>\n",
              "      <th>Tipo</th>\n",
              "      <th>Bairro</th>\n",
              "      <th>Quartos</th>\n",
              "      <th>Vagas</th>\n",
              "      <th>Suites</th>\n",
              "      <th>Area</th>\n",
              "      <th>Valor</th>\n",
              "      <th>Condominio</th>\n",
              "      <th>IPTU</th>\n",
              "    </tr>\n",
              "  </thead>\n",
              "  <tbody>\n",
              "    <tr>\n",
              "      <th>0</th>\n",
              "      <td>Quitinete</td>\n",
              "      <td>Copacabana</td>\n",
              "      <td>1</td>\n",
              "      <td>0</td>\n",
              "      <td>0</td>\n",
              "      <td>40</td>\n",
              "      <td>1700.0</td>\n",
              "      <td>500.0</td>\n",
              "      <td>60.0</td>\n",
              "    </tr>\n",
              "    <tr>\n",
              "      <th>1</th>\n",
              "      <td>Casa</td>\n",
              "      <td>Jardim Botânico</td>\n",
              "      <td>2</td>\n",
              "      <td>0</td>\n",
              "      <td>1</td>\n",
              "      <td>100</td>\n",
              "      <td>7000.0</td>\n",
              "      <td>NaN</td>\n",
              "      <td>NaN</td>\n",
              "    </tr>\n",
              "    <tr>\n",
              "      <th>2</th>\n",
              "      <td>Apartamento</td>\n",
              "      <td>Centro</td>\n",
              "      <td>1</td>\n",
              "      <td>0</td>\n",
              "      <td>0</td>\n",
              "      <td>15</td>\n",
              "      <td>800.0</td>\n",
              "      <td>390.0</td>\n",
              "      <td>20.0</td>\n",
              "    </tr>\n",
              "    <tr>\n",
              "      <th>3</th>\n",
              "      <td>Apartamento</td>\n",
              "      <td>Higienópolis</td>\n",
              "      <td>1</td>\n",
              "      <td>0</td>\n",
              "      <td>0</td>\n",
              "      <td>48</td>\n",
              "      <td>800.0</td>\n",
              "      <td>230.0</td>\n",
              "      <td>NaN</td>\n",
              "    </tr>\n",
              "    <tr>\n",
              "      <th>4</th>\n",
              "      <td>Apartamento</td>\n",
              "      <td>Vista Alegre</td>\n",
              "      <td>3</td>\n",
              "      <td>1</td>\n",
              "      <td>0</td>\n",
              "      <td>70</td>\n",
              "      <td>1200.0</td>\n",
              "      <td>NaN</td>\n",
              "      <td>NaN</td>\n",
              "    </tr>\n",
              "    <tr>\n",
              "      <th>5</th>\n",
              "      <td>Apartamento</td>\n",
              "      <td>Cachambi</td>\n",
              "      <td>2</td>\n",
              "      <td>0</td>\n",
              "      <td>0</td>\n",
              "      <td>50</td>\n",
              "      <td>1300.0</td>\n",
              "      <td>301.0</td>\n",
              "      <td>17.0</td>\n",
              "    </tr>\n",
              "    <tr>\n",
              "      <th>6</th>\n",
              "      <td>Casa de Condomínio</td>\n",
              "      <td>Barra da Tijuca</td>\n",
              "      <td>5</td>\n",
              "      <td>4</td>\n",
              "      <td>5</td>\n",
              "      <td>750</td>\n",
              "      <td>22000.0</td>\n",
              "      <td>NaN</td>\n",
              "      <td>NaN</td>\n",
              "    </tr>\n",
              "    <tr>\n",
              "      <th>7</th>\n",
              "      <td>Casa de Condomínio</td>\n",
              "      <td>Ramos</td>\n",
              "      <td>2</td>\n",
              "      <td>2</td>\n",
              "      <td>0</td>\n",
              "      <td>65</td>\n",
              "      <td>1000.0</td>\n",
              "      <td>NaN</td>\n",
              "      <td>NaN</td>\n",
              "    </tr>\n",
              "    <tr>\n",
              "      <th>8</th>\n",
              "      <td>Apartamento</td>\n",
              "      <td>Centro</td>\n",
              "      <td>1</td>\n",
              "      <td>0</td>\n",
              "      <td>0</td>\n",
              "      <td>36</td>\n",
              "      <td>1200.0</td>\n",
              "      <td>NaN</td>\n",
              "      <td>NaN</td>\n",
              "    </tr>\n",
              "    <tr>\n",
              "      <th>9</th>\n",
              "      <td>Apartamento</td>\n",
              "      <td>Grajaú</td>\n",
              "      <td>2</td>\n",
              "      <td>1</td>\n",
              "      <td>0</td>\n",
              "      <td>70</td>\n",
              "      <td>1500.0</td>\n",
              "      <td>642.0</td>\n",
              "      <td>74.0</td>\n",
              "    </tr>\n",
              "  </tbody>\n",
              "</table>\n",
              "</div>"
            ],
            "text/plain": [
              "                 Tipo           Bairro  Quartos  ...    Valor  Condominio  IPTU\n",
              "0           Quitinete       Copacabana        1  ...   1700.0       500.0  60.0\n",
              "1                Casa  Jardim Botânico        2  ...   7000.0         NaN   NaN\n",
              "2         Apartamento           Centro        1  ...    800.0       390.0  20.0\n",
              "3         Apartamento     Higienópolis        1  ...    800.0       230.0   NaN\n",
              "4         Apartamento     Vista Alegre        3  ...   1200.0         NaN   NaN\n",
              "5         Apartamento         Cachambi        2  ...   1300.0       301.0  17.0\n",
              "6  Casa de Condomínio  Barra da Tijuca        5  ...  22000.0         NaN   NaN\n",
              "7  Casa de Condomínio            Ramos        2  ...   1000.0         NaN   NaN\n",
              "8         Apartamento           Centro        1  ...   1200.0         NaN   NaN\n",
              "9         Apartamento           Grajaú        2  ...   1500.0       642.0  74.0\n",
              "\n",
              "[10 rows x 9 columns]"
            ]
          },
          "metadata": {
            "tags": []
          },
          "execution_count": 13
        }
      ]
    },
    {
      "cell_type": "code",
      "metadata": {
        "id": "BI-sgRTE10p7",
        "colab_type": "code",
        "colab": {}
      },
      "source": [
        "selecao = aluguel_residencial['Tipo'] == 'Apartamento'\n",
        "ds1 = aluguel_residencial[selecao]\n",
        "ds1.head(10)"
      ],
      "execution_count": null,
      "outputs": []
    },
    {
      "cell_type": "code",
      "metadata": {
        "id": "ltYlrsrk2Zhw",
        "colab_type": "code",
        "colab": {}
      },
      "source": [
        "selecao = (aluguel_residencial['Tipo'] == 'Casa de Condomínio') | (aluguel_residencial['Tipo'] == 'Casa de Vila')\n",
        "ds2 = aluguel_residencial[selecao]\n",
        "ds2.head(10)"
      ],
      "execution_count": null,
      "outputs": []
    },
    {
      "cell_type": "code",
      "metadata": {
        "id": "o0krpxRGMk7L",
        "colab_type": "code",
        "colab": {}
      },
      "source": [
        "import pandas as pd\n",
        "alunos = pd.DataFrame({'Nome': ['Ary', 'Cátia', 'Denis', 'Beto', 'Bruna', 'Dara', 'Carlos', 'Alice'], \n",
        "                        'Sexo': ['M', 'F', 'M', 'M', 'F', 'F', 'M', 'F'], \n",
        "                        'Idade': [15, 27, 56, 32, 42, 21, 19, 35], \n",
        "                        'Notas': [7.5, 2.5, 5.0, 10, 8.2, 7, 6, 5.6], \n",
        "                        'Aprovado': [True, False, False, True, True, True, False, False]}, \n",
        "                        columns = ['Nome', 'Idade', 'Sexo', 'Notas', 'Aprovado'])\n",
        "alunos"
      ],
      "execution_count": null,
      "outputs": []
    },
    {
      "cell_type": "code",
      "metadata": {
        "id": "DhPlGDMXOcvu",
        "colab_type": "code",
        "colab": {}
      },
      "source": [
        "selecao = alunos['Aprovado'] == False\n",
        "reprovados = alunos.loc[selecao, ['Nome', 'Sexo', 'Idade']]\n",
        "reprovados"
      ],
      "execution_count": null,
      "outputs": []
    },
    {
      "cell_type": "code",
      "metadata": {
        "id": "uHQ2HWydPsdo",
        "colab_type": "code",
        "colab": {
          "base_uri": "https://localhost:8080/",
          "height": 34
        },
        "outputId": "4998685b-2a37-49e0-f430-fe8b7e50d0c5"
      },
      "source": [
        "'1 2 3'.split()"
      ],
      "execution_count": null,
      "outputs": [
        {
          "output_type": "execute_result",
          "data": {
            "text/plain": [
              "['1', '2', '3']"
            ]
          },
          "metadata": {
            "tags": []
          },
          "execution_count": 19
        }
      ]
    },
    {
      "cell_type": "code",
      "metadata": {
        "id": "HHkxJQl7Rzw_",
        "colab_type": "code",
        "colab": {
          "base_uri": "https://localhost:8080/",
          "height": 419
        },
        "outputId": "84c2f57a-d8ae-411c-fe28-ce8bc5d7e9ca"
      },
      "source": [
        "aluguel_residencial1 = aluguel_residencial.fillna(aluguel_residencial['Condominio'].mean())\n",
        "aluguel_residencial1"
      ],
      "execution_count": null,
      "outputs": [
        {
          "output_type": "execute_result",
          "data": {
            "text/html": [
              "<div>\n",
              "<style scoped>\n",
              "    .dataframe tbody tr th:only-of-type {\n",
              "        vertical-align: middle;\n",
              "    }\n",
              "\n",
              "    .dataframe tbody tr th {\n",
              "        vertical-align: top;\n",
              "    }\n",
              "\n",
              "    .dataframe thead th {\n",
              "        text-align: right;\n",
              "    }\n",
              "</style>\n",
              "<table border=\"1\" class=\"dataframe\">\n",
              "  <thead>\n",
              "    <tr style=\"text-align: right;\">\n",
              "      <th></th>\n",
              "      <th>Tipo</th>\n",
              "      <th>Bairro</th>\n",
              "      <th>Quartos</th>\n",
              "      <th>Vagas</th>\n",
              "      <th>Suites</th>\n",
              "      <th>Area</th>\n",
              "      <th>Valor</th>\n",
              "      <th>Condominio</th>\n",
              "      <th>IPTU</th>\n",
              "    </tr>\n",
              "  </thead>\n",
              "  <tbody>\n",
              "    <tr>\n",
              "      <th>0</th>\n",
              "      <td>Quitinete</td>\n",
              "      <td>Copacabana</td>\n",
              "      <td>1</td>\n",
              "      <td>0</td>\n",
              "      <td>0</td>\n",
              "      <td>40</td>\n",
              "      <td>1700.0</td>\n",
              "      <td>500.000000</td>\n",
              "      <td>60.000000</td>\n",
              "    </tr>\n",
              "    <tr>\n",
              "      <th>1</th>\n",
              "      <td>Casa</td>\n",
              "      <td>Jardim Botânico</td>\n",
              "      <td>2</td>\n",
              "      <td>0</td>\n",
              "      <td>1</td>\n",
              "      <td>100</td>\n",
              "      <td>7000.0</td>\n",
              "      <td>1648.800056</td>\n",
              "      <td>1648.800056</td>\n",
              "    </tr>\n",
              "    <tr>\n",
              "      <th>2</th>\n",
              "      <td>Apartamento</td>\n",
              "      <td>Centro</td>\n",
              "      <td>1</td>\n",
              "      <td>0</td>\n",
              "      <td>0</td>\n",
              "      <td>15</td>\n",
              "      <td>800.0</td>\n",
              "      <td>390.000000</td>\n",
              "      <td>20.000000</td>\n",
              "    </tr>\n",
              "    <tr>\n",
              "      <th>3</th>\n",
              "      <td>Apartamento</td>\n",
              "      <td>Higienópolis</td>\n",
              "      <td>1</td>\n",
              "      <td>0</td>\n",
              "      <td>0</td>\n",
              "      <td>48</td>\n",
              "      <td>800.0</td>\n",
              "      <td>230.000000</td>\n",
              "      <td>1648.800056</td>\n",
              "    </tr>\n",
              "    <tr>\n",
              "      <th>4</th>\n",
              "      <td>Apartamento</td>\n",
              "      <td>Vista Alegre</td>\n",
              "      <td>3</td>\n",
              "      <td>1</td>\n",
              "      <td>0</td>\n",
              "      <td>70</td>\n",
              "      <td>1200.0</td>\n",
              "      <td>1648.800056</td>\n",
              "      <td>1648.800056</td>\n",
              "    </tr>\n",
              "    <tr>\n",
              "      <th>...</th>\n",
              "      <td>...</td>\n",
              "      <td>...</td>\n",
              "      <td>...</td>\n",
              "      <td>...</td>\n",
              "      <td>...</td>\n",
              "      <td>...</td>\n",
              "      <td>...</td>\n",
              "      <td>...</td>\n",
              "      <td>...</td>\n",
              "    </tr>\n",
              "    <tr>\n",
              "      <th>23116</th>\n",
              "      <td>Apartamento</td>\n",
              "      <td>Méier</td>\n",
              "      <td>2</td>\n",
              "      <td>0</td>\n",
              "      <td>0</td>\n",
              "      <td>70</td>\n",
              "      <td>900.0</td>\n",
              "      <td>490.000000</td>\n",
              "      <td>48.000000</td>\n",
              "    </tr>\n",
              "    <tr>\n",
              "      <th>23117</th>\n",
              "      <td>Quitinete</td>\n",
              "      <td>Centro</td>\n",
              "      <td>0</td>\n",
              "      <td>0</td>\n",
              "      <td>0</td>\n",
              "      <td>27</td>\n",
              "      <td>800.0</td>\n",
              "      <td>350.000000</td>\n",
              "      <td>25.000000</td>\n",
              "    </tr>\n",
              "    <tr>\n",
              "      <th>23118</th>\n",
              "      <td>Apartamento</td>\n",
              "      <td>Jacarepaguá</td>\n",
              "      <td>3</td>\n",
              "      <td>1</td>\n",
              "      <td>2</td>\n",
              "      <td>78</td>\n",
              "      <td>1800.0</td>\n",
              "      <td>800.000000</td>\n",
              "      <td>40.000000</td>\n",
              "    </tr>\n",
              "    <tr>\n",
              "      <th>23119</th>\n",
              "      <td>Apartamento</td>\n",
              "      <td>São Francisco Xavier</td>\n",
              "      <td>2</td>\n",
              "      <td>1</td>\n",
              "      <td>0</td>\n",
              "      <td>48</td>\n",
              "      <td>1400.0</td>\n",
              "      <td>509.000000</td>\n",
              "      <td>37.000000</td>\n",
              "    </tr>\n",
              "    <tr>\n",
              "      <th>23120</th>\n",
              "      <td>Apartamento</td>\n",
              "      <td>Leblon</td>\n",
              "      <td>2</td>\n",
              "      <td>0</td>\n",
              "      <td>0</td>\n",
              "      <td>70</td>\n",
              "      <td>3000.0</td>\n",
              "      <td>760.000000</td>\n",
              "      <td>1648.800056</td>\n",
              "    </tr>\n",
              "  </tbody>\n",
              "</table>\n",
              "<p>23121 rows × 9 columns</p>\n",
              "</div>"
            ],
            "text/plain": [
              "              Tipo                Bairro  ...   Condominio         IPTU\n",
              "0        Quitinete            Copacabana  ...   500.000000    60.000000\n",
              "1             Casa       Jardim Botânico  ...  1648.800056  1648.800056\n",
              "2      Apartamento                Centro  ...   390.000000    20.000000\n",
              "3      Apartamento          Higienópolis  ...   230.000000  1648.800056\n",
              "4      Apartamento          Vista Alegre  ...  1648.800056  1648.800056\n",
              "...            ...                   ...  ...          ...          ...\n",
              "23116  Apartamento                 Méier  ...   490.000000    48.000000\n",
              "23117    Quitinete                Centro  ...   350.000000    25.000000\n",
              "23118  Apartamento           Jacarepaguá  ...   800.000000    40.000000\n",
              "23119  Apartamento  São Francisco Xavier  ...   509.000000    37.000000\n",
              "23120  Apartamento                Leblon  ...   760.000000  1648.800056\n",
              "\n",
              "[23121 rows x 9 columns]"
            ]
          },
          "metadata": {
            "tags": []
          },
          "execution_count": 14
        }
      ]
    },
    {
      "cell_type": "code",
      "metadata": {
        "id": "n1yFZnJ2foWM",
        "colab_type": "code",
        "colab": {}
      },
      "source": [
        "df1 = aluguel_residencial['Valor'] >= 3000\n",
        "~df1"
      ],
      "execution_count": null,
      "outputs": []
    },
    {
      "cell_type": "code",
      "metadata": {
        "id": "jod7nEQFqqz-",
        "colab_type": "code",
        "colab": {
          "base_uri": "https://localhost:8080/",
          "height": 410
        },
        "outputId": "62480042-f6b5-4d70-949c-c1fda4534eb5"
      },
      "source": [
        "casa = ['Casa', 'Casa de Condomínio', 'Casa de Vila']\n",
        "aluguel_residencial['Tipo_agregado'] = aluguel_residencial['Tipo'].apply(lambda x: 'Casa' if x in casa else 'Apartamento')\n",
        "aluguel_residencial['Valor_Bruto'] = aluguel_residencial['Valor'] + aluguel_residencial['Condominio'] + aluguel_residencial['IPTU']\n",
        "aluguel_residencial['Valor_m2'] = aluguel_residencial['Valor'] / aluguel_residencial['Area']\n",
        "aluguel_residencial['Valor_m2'] = aluguel_residencial['Valor_m2'].round(2)\n",
        "aluguel_residencial.head(10)"
      ],
      "execution_count": null,
      "outputs": [
        {
          "output_type": "execute_result",
          "data": {
            "text/html": [
              "<div>\n",
              "<style scoped>\n",
              "    .dataframe tbody tr th:only-of-type {\n",
              "        vertical-align: middle;\n",
              "    }\n",
              "\n",
              "    .dataframe tbody tr th {\n",
              "        vertical-align: top;\n",
              "    }\n",
              "\n",
              "    .dataframe thead th {\n",
              "        text-align: right;\n",
              "    }\n",
              "</style>\n",
              "<table border=\"1\" class=\"dataframe\">\n",
              "  <thead>\n",
              "    <tr style=\"text-align: right;\">\n",
              "      <th></th>\n",
              "      <th>Tipo</th>\n",
              "      <th>Bairro</th>\n",
              "      <th>Quartos</th>\n",
              "      <th>Vagas</th>\n",
              "      <th>Suites</th>\n",
              "      <th>Area</th>\n",
              "      <th>Valor</th>\n",
              "      <th>Condominio</th>\n",
              "      <th>IPTU</th>\n",
              "      <th>Tipo_agregado</th>\n",
              "      <th>Valor_Bruto</th>\n",
              "      <th>Valor_m2</th>\n",
              "    </tr>\n",
              "  </thead>\n",
              "  <tbody>\n",
              "    <tr>\n",
              "      <th>0</th>\n",
              "      <td>Quitinete</td>\n",
              "      <td>Copacabana</td>\n",
              "      <td>1</td>\n",
              "      <td>0</td>\n",
              "      <td>0</td>\n",
              "      <td>40</td>\n",
              "      <td>1700.0</td>\n",
              "      <td>500.0</td>\n",
              "      <td>60.0</td>\n",
              "      <td>Apartamento</td>\n",
              "      <td>2260.0</td>\n",
              "      <td>42.50</td>\n",
              "    </tr>\n",
              "    <tr>\n",
              "      <th>1</th>\n",
              "      <td>Casa</td>\n",
              "      <td>Jardim Botânico</td>\n",
              "      <td>2</td>\n",
              "      <td>0</td>\n",
              "      <td>1</td>\n",
              "      <td>100</td>\n",
              "      <td>7000.0</td>\n",
              "      <td>NaN</td>\n",
              "      <td>NaN</td>\n",
              "      <td>Casa</td>\n",
              "      <td>NaN</td>\n",
              "      <td>70.00</td>\n",
              "    </tr>\n",
              "    <tr>\n",
              "      <th>2</th>\n",
              "      <td>Apartamento</td>\n",
              "      <td>Centro</td>\n",
              "      <td>1</td>\n",
              "      <td>0</td>\n",
              "      <td>0</td>\n",
              "      <td>15</td>\n",
              "      <td>800.0</td>\n",
              "      <td>390.0</td>\n",
              "      <td>20.0</td>\n",
              "      <td>Apartamento</td>\n",
              "      <td>1210.0</td>\n",
              "      <td>53.33</td>\n",
              "    </tr>\n",
              "    <tr>\n",
              "      <th>3</th>\n",
              "      <td>Apartamento</td>\n",
              "      <td>Higienópolis</td>\n",
              "      <td>1</td>\n",
              "      <td>0</td>\n",
              "      <td>0</td>\n",
              "      <td>48</td>\n",
              "      <td>800.0</td>\n",
              "      <td>230.0</td>\n",
              "      <td>NaN</td>\n",
              "      <td>Apartamento</td>\n",
              "      <td>NaN</td>\n",
              "      <td>16.67</td>\n",
              "    </tr>\n",
              "    <tr>\n",
              "      <th>4</th>\n",
              "      <td>Apartamento</td>\n",
              "      <td>Vista Alegre</td>\n",
              "      <td>3</td>\n",
              "      <td>1</td>\n",
              "      <td>0</td>\n",
              "      <td>70</td>\n",
              "      <td>1200.0</td>\n",
              "      <td>NaN</td>\n",
              "      <td>NaN</td>\n",
              "      <td>Apartamento</td>\n",
              "      <td>NaN</td>\n",
              "      <td>17.14</td>\n",
              "    </tr>\n",
              "    <tr>\n",
              "      <th>5</th>\n",
              "      <td>Apartamento</td>\n",
              "      <td>Cachambi</td>\n",
              "      <td>2</td>\n",
              "      <td>0</td>\n",
              "      <td>0</td>\n",
              "      <td>50</td>\n",
              "      <td>1300.0</td>\n",
              "      <td>301.0</td>\n",
              "      <td>17.0</td>\n",
              "      <td>Apartamento</td>\n",
              "      <td>1618.0</td>\n",
              "      <td>26.00</td>\n",
              "    </tr>\n",
              "    <tr>\n",
              "      <th>6</th>\n",
              "      <td>Casa de Condomínio</td>\n",
              "      <td>Barra da Tijuca</td>\n",
              "      <td>5</td>\n",
              "      <td>4</td>\n",
              "      <td>5</td>\n",
              "      <td>750</td>\n",
              "      <td>22000.0</td>\n",
              "      <td>NaN</td>\n",
              "      <td>NaN</td>\n",
              "      <td>Casa</td>\n",
              "      <td>NaN</td>\n",
              "      <td>29.33</td>\n",
              "    </tr>\n",
              "    <tr>\n",
              "      <th>7</th>\n",
              "      <td>Casa de Condomínio</td>\n",
              "      <td>Ramos</td>\n",
              "      <td>2</td>\n",
              "      <td>2</td>\n",
              "      <td>0</td>\n",
              "      <td>65</td>\n",
              "      <td>1000.0</td>\n",
              "      <td>NaN</td>\n",
              "      <td>NaN</td>\n",
              "      <td>Casa</td>\n",
              "      <td>NaN</td>\n",
              "      <td>15.38</td>\n",
              "    </tr>\n",
              "    <tr>\n",
              "      <th>8</th>\n",
              "      <td>Apartamento</td>\n",
              "      <td>Centro</td>\n",
              "      <td>1</td>\n",
              "      <td>0</td>\n",
              "      <td>0</td>\n",
              "      <td>36</td>\n",
              "      <td>1200.0</td>\n",
              "      <td>NaN</td>\n",
              "      <td>NaN</td>\n",
              "      <td>Apartamento</td>\n",
              "      <td>NaN</td>\n",
              "      <td>33.33</td>\n",
              "    </tr>\n",
              "    <tr>\n",
              "      <th>9</th>\n",
              "      <td>Apartamento</td>\n",
              "      <td>Grajaú</td>\n",
              "      <td>2</td>\n",
              "      <td>1</td>\n",
              "      <td>0</td>\n",
              "      <td>70</td>\n",
              "      <td>1500.0</td>\n",
              "      <td>642.0</td>\n",
              "      <td>74.0</td>\n",
              "      <td>Apartamento</td>\n",
              "      <td>2216.0</td>\n",
              "      <td>21.43</td>\n",
              "    </tr>\n",
              "  </tbody>\n",
              "</table>\n",
              "</div>"
            ],
            "text/plain": [
              "                 Tipo           Bairro  ...  Valor_Bruto  Valor_m2\n",
              "0           Quitinete       Copacabana  ...       2260.0     42.50\n",
              "1                Casa  Jardim Botânico  ...          NaN     70.00\n",
              "2         Apartamento           Centro  ...       1210.0     53.33\n",
              "3         Apartamento     Higienópolis  ...          NaN     16.67\n",
              "4         Apartamento     Vista Alegre  ...          NaN     17.14\n",
              "5         Apartamento         Cachambi  ...       1618.0     26.00\n",
              "6  Casa de Condomínio  Barra da Tijuca  ...          NaN     29.33\n",
              "7  Casa de Condomínio            Ramos  ...          NaN     15.38\n",
              "8         Apartamento           Centro  ...          NaN     33.33\n",
              "9         Apartamento           Grajaú  ...       2216.0     21.43\n",
              "\n",
              "[10 rows x 12 columns]"
            ]
          },
          "metadata": {
            "tags": []
          },
          "execution_count": 17
        }
      ]
    },
    {
      "cell_type": "code",
      "metadata": {
        "id": "DJkXtBpAwMwg",
        "colab_type": "code",
        "colab": {
          "base_uri": "https://localhost:8080/",
          "height": 204
        },
        "outputId": "158d19c8-c8d0-4917-b000-e562202d7e7d"
      },
      "source": [
        "aluguel_residencial.pop('Valor_Bruto')\n",
        "aluguel_residencial.head()"
      ],
      "execution_count": null,
      "outputs": [
        {
          "output_type": "execute_result",
          "data": {
            "text/html": [
              "<div>\n",
              "<style scoped>\n",
              "    .dataframe tbody tr th:only-of-type {\n",
              "        vertical-align: middle;\n",
              "    }\n",
              "\n",
              "    .dataframe tbody tr th {\n",
              "        vertical-align: top;\n",
              "    }\n",
              "\n",
              "    .dataframe thead th {\n",
              "        text-align: right;\n",
              "    }\n",
              "</style>\n",
              "<table border=\"1\" class=\"dataframe\">\n",
              "  <thead>\n",
              "    <tr style=\"text-align: right;\">\n",
              "      <th></th>\n",
              "      <th>Tipo</th>\n",
              "      <th>Bairro</th>\n",
              "      <th>Quartos</th>\n",
              "      <th>Vagas</th>\n",
              "      <th>Suites</th>\n",
              "      <th>Area</th>\n",
              "      <th>Valor</th>\n",
              "      <th>Condominio</th>\n",
              "      <th>IPTU</th>\n",
              "      <th>Tipo_agregado</th>\n",
              "      <th>Valor_m2</th>\n",
              "    </tr>\n",
              "  </thead>\n",
              "  <tbody>\n",
              "    <tr>\n",
              "      <th>0</th>\n",
              "      <td>Quitinete</td>\n",
              "      <td>Copacabana</td>\n",
              "      <td>1</td>\n",
              "      <td>0</td>\n",
              "      <td>0</td>\n",
              "      <td>40</td>\n",
              "      <td>1700.0</td>\n",
              "      <td>500.0</td>\n",
              "      <td>60.0</td>\n",
              "      <td>Apartamento</td>\n",
              "      <td>42.50</td>\n",
              "    </tr>\n",
              "    <tr>\n",
              "      <th>1</th>\n",
              "      <td>Casa</td>\n",
              "      <td>Jardim Botânico</td>\n",
              "      <td>2</td>\n",
              "      <td>0</td>\n",
              "      <td>1</td>\n",
              "      <td>100</td>\n",
              "      <td>7000.0</td>\n",
              "      <td>NaN</td>\n",
              "      <td>NaN</td>\n",
              "      <td>Casa</td>\n",
              "      <td>70.00</td>\n",
              "    </tr>\n",
              "    <tr>\n",
              "      <th>2</th>\n",
              "      <td>Apartamento</td>\n",
              "      <td>Centro</td>\n",
              "      <td>1</td>\n",
              "      <td>0</td>\n",
              "      <td>0</td>\n",
              "      <td>15</td>\n",
              "      <td>800.0</td>\n",
              "      <td>390.0</td>\n",
              "      <td>20.0</td>\n",
              "      <td>Apartamento</td>\n",
              "      <td>53.33</td>\n",
              "    </tr>\n",
              "    <tr>\n",
              "      <th>3</th>\n",
              "      <td>Apartamento</td>\n",
              "      <td>Higienópolis</td>\n",
              "      <td>1</td>\n",
              "      <td>0</td>\n",
              "      <td>0</td>\n",
              "      <td>48</td>\n",
              "      <td>800.0</td>\n",
              "      <td>230.0</td>\n",
              "      <td>NaN</td>\n",
              "      <td>Apartamento</td>\n",
              "      <td>16.67</td>\n",
              "    </tr>\n",
              "    <tr>\n",
              "      <th>4</th>\n",
              "      <td>Apartamento</td>\n",
              "      <td>Vista Alegre</td>\n",
              "      <td>3</td>\n",
              "      <td>1</td>\n",
              "      <td>0</td>\n",
              "      <td>70</td>\n",
              "      <td>1200.0</td>\n",
              "      <td>NaN</td>\n",
              "      <td>NaN</td>\n",
              "      <td>Apartamento</td>\n",
              "      <td>17.14</td>\n",
              "    </tr>\n",
              "  </tbody>\n",
              "</table>\n",
              "</div>"
            ],
            "text/plain": [
              "          Tipo           Bairro  Quartos  ...  IPTU  Tipo_agregado  Valor_m2\n",
              "0    Quitinete       Copacabana        1  ...  60.0    Apartamento     42.50\n",
              "1         Casa  Jardim Botânico        2  ...   NaN           Casa     70.00\n",
              "2  Apartamento           Centro        1  ...  20.0    Apartamento     53.33\n",
              "3  Apartamento     Higienópolis        1  ...   NaN    Apartamento     16.67\n",
              "4  Apartamento     Vista Alegre        3  ...   NaN    Apartamento     17.14\n",
              "\n",
              "[5 rows x 11 columns]"
            ]
          },
          "metadata": {
            "tags": []
          },
          "execution_count": 18
        }
      ]
    },
    {
      "cell_type": "code",
      "metadata": {
        "id": "XlPESCtxwWhV",
        "colab_type": "code",
        "colab": {}
      },
      "source": [
        "aluguel_residencial.to_csv('aluguel_residencial.csv', sep=\";\", index=False)"
      ],
      "execution_count": null,
      "outputs": []
    },
    {
      "cell_type": "code",
      "metadata": {
        "id": "2pIVxzCjz3WZ",
        "colab_type": "code",
        "colab": {
          "base_uri": "https://localhost:8080/",
          "height": 204
        },
        "outputId": "73461758-8249-40cd-e3bc-a7e39c5370c2"
      },
      "source": [
        "aluguel_residencial = pd.read_csv('aluguel_residencial.csv', sep=\";\")\n",
        "aluguel_residencial.head()"
      ],
      "execution_count": null,
      "outputs": [
        {
          "output_type": "execute_result",
          "data": {
            "text/html": [
              "<div>\n",
              "<style scoped>\n",
              "    .dataframe tbody tr th:only-of-type {\n",
              "        vertical-align: middle;\n",
              "    }\n",
              "\n",
              "    .dataframe tbody tr th {\n",
              "        vertical-align: top;\n",
              "    }\n",
              "\n",
              "    .dataframe thead th {\n",
              "        text-align: right;\n",
              "    }\n",
              "</style>\n",
              "<table border=\"1\" class=\"dataframe\">\n",
              "  <thead>\n",
              "    <tr style=\"text-align: right;\">\n",
              "      <th></th>\n",
              "      <th>Tipo</th>\n",
              "      <th>Bairro</th>\n",
              "      <th>Quartos</th>\n",
              "      <th>Vagas</th>\n",
              "      <th>Suites</th>\n",
              "      <th>Area</th>\n",
              "      <th>Valor</th>\n",
              "      <th>Condominio</th>\n",
              "      <th>IPTU</th>\n",
              "      <th>Tipo_agregado</th>\n",
              "      <th>Valor_m2</th>\n",
              "    </tr>\n",
              "  </thead>\n",
              "  <tbody>\n",
              "    <tr>\n",
              "      <th>0</th>\n",
              "      <td>Quitinete</td>\n",
              "      <td>Copacabana</td>\n",
              "      <td>1</td>\n",
              "      <td>0</td>\n",
              "      <td>0</td>\n",
              "      <td>40</td>\n",
              "      <td>1700.0</td>\n",
              "      <td>500.0</td>\n",
              "      <td>60.0</td>\n",
              "      <td>Apartamento</td>\n",
              "      <td>42.50</td>\n",
              "    </tr>\n",
              "    <tr>\n",
              "      <th>1</th>\n",
              "      <td>Casa</td>\n",
              "      <td>Jardim Botânico</td>\n",
              "      <td>2</td>\n",
              "      <td>0</td>\n",
              "      <td>1</td>\n",
              "      <td>100</td>\n",
              "      <td>7000.0</td>\n",
              "      <td>NaN</td>\n",
              "      <td>NaN</td>\n",
              "      <td>Casa</td>\n",
              "      <td>70.00</td>\n",
              "    </tr>\n",
              "    <tr>\n",
              "      <th>2</th>\n",
              "      <td>Apartamento</td>\n",
              "      <td>Centro</td>\n",
              "      <td>1</td>\n",
              "      <td>0</td>\n",
              "      <td>0</td>\n",
              "      <td>15</td>\n",
              "      <td>800.0</td>\n",
              "      <td>390.0</td>\n",
              "      <td>20.0</td>\n",
              "      <td>Apartamento</td>\n",
              "      <td>53.33</td>\n",
              "    </tr>\n",
              "    <tr>\n",
              "      <th>3</th>\n",
              "      <td>Apartamento</td>\n",
              "      <td>Higienópolis</td>\n",
              "      <td>1</td>\n",
              "      <td>0</td>\n",
              "      <td>0</td>\n",
              "      <td>48</td>\n",
              "      <td>800.0</td>\n",
              "      <td>230.0</td>\n",
              "      <td>NaN</td>\n",
              "      <td>Apartamento</td>\n",
              "      <td>16.67</td>\n",
              "    </tr>\n",
              "    <tr>\n",
              "      <th>4</th>\n",
              "      <td>Apartamento</td>\n",
              "      <td>Vista Alegre</td>\n",
              "      <td>3</td>\n",
              "      <td>1</td>\n",
              "      <td>0</td>\n",
              "      <td>70</td>\n",
              "      <td>1200.0</td>\n",
              "      <td>NaN</td>\n",
              "      <td>NaN</td>\n",
              "      <td>Apartamento</td>\n",
              "      <td>17.14</td>\n",
              "    </tr>\n",
              "  </tbody>\n",
              "</table>\n",
              "</div>"
            ],
            "text/plain": [
              "          Tipo           Bairro  Quartos  ...  IPTU  Tipo_agregado  Valor_m2\n",
              "0    Quitinete       Copacabana        1  ...  60.0    Apartamento     42.50\n",
              "1         Casa  Jardim Botânico        2  ...   NaN           Casa     70.00\n",
              "2  Apartamento           Centro        1  ...  20.0    Apartamento     53.33\n",
              "3  Apartamento     Higienópolis        1  ...   NaN    Apartamento     16.67\n",
              "4  Apartamento     Vista Alegre        3  ...   NaN    Apartamento     17.14\n",
              "\n",
              "[5 rows x 11 columns]"
            ]
          },
          "metadata": {
            "tags": []
          },
          "execution_count": 2
        }
      ]
    },
    {
      "cell_type": "code",
      "metadata": {
        "id": "o9HyE-Z6E7-S",
        "colab_type": "code",
        "colab": {
          "base_uri": "https://localhost:8080/",
          "height": 289
        },
        "outputId": "81b63d70-7c97-42b8-cacd-2aade0aafd36"
      },
      "source": [
        "aluguel_bairros = pd.DataFrame(aluguel_residencial.groupby('Bairro')['Valor','Condominio'].mean().round(2))\n",
        "aluguel_bairros.columns = ['Valor_medio', 'Condominio_medio']\n",
        "aluguel_bairros.head()"
      ],
      "execution_count": null,
      "outputs": [
        {
          "output_type": "stream",
          "text": [
            "/usr/local/lib/python3.6/dist-packages/ipykernel_launcher.py:1: FutureWarning: Indexing with multiple keys (implicitly converted to a tuple of keys) will be deprecated, use a list instead.\n",
            "  \"\"\"Entry point for launching an IPython kernel.\n"
          ],
          "name": "stderr"
        },
        {
          "output_type": "execute_result",
          "data": {
            "text/html": [
              "<div>\n",
              "<style scoped>\n",
              "    .dataframe tbody tr th:only-of-type {\n",
              "        vertical-align: middle;\n",
              "    }\n",
              "\n",
              "    .dataframe tbody tr th {\n",
              "        vertical-align: top;\n",
              "    }\n",
              "\n",
              "    .dataframe thead th {\n",
              "        text-align: right;\n",
              "    }\n",
              "</style>\n",
              "<table border=\"1\" class=\"dataframe\">\n",
              "  <thead>\n",
              "    <tr style=\"text-align: right;\">\n",
              "      <th></th>\n",
              "      <th>Valor_medio</th>\n",
              "      <th>Condominio_medio</th>\n",
              "    </tr>\n",
              "    <tr>\n",
              "      <th>Bairro</th>\n",
              "      <th></th>\n",
              "      <th></th>\n",
              "    </tr>\n",
              "  </thead>\n",
              "  <tbody>\n",
              "    <tr>\n",
              "      <th>Abolição</th>\n",
              "      <td>1195.62</td>\n",
              "      <td>287.1</td>\n",
              "    </tr>\n",
              "    <tr>\n",
              "      <th>Alto da Boa Vista</th>\n",
              "      <td>3966.67</td>\n",
              "      <td>885.0</td>\n",
              "    </tr>\n",
              "    <tr>\n",
              "      <th>Anchieta</th>\n",
              "      <td>784.29</td>\n",
              "      <td>79.0</td>\n",
              "    </tr>\n",
              "    <tr>\n",
              "      <th>Andaraí</th>\n",
              "      <td>1463.03</td>\n",
              "      <td>513.6</td>\n",
              "    </tr>\n",
              "    <tr>\n",
              "      <th>Anil</th>\n",
              "      <td>1987.37</td>\n",
              "      <td>505.7</td>\n",
              "    </tr>\n",
              "  </tbody>\n",
              "</table>\n",
              "</div>"
            ],
            "text/plain": [
              "                   Valor_medio  Condominio_medio\n",
              "Bairro                                          \n",
              "Abolição               1195.62             287.1\n",
              "Alto da Boa Vista      3966.67             885.0\n",
              "Anchieta                784.29              79.0\n",
              "Andaraí                1463.03             513.6\n",
              "Anil                   1987.37             505.7"
            ]
          },
          "metadata": {
            "tags": []
          },
          "execution_count": 41
        }
      ]
    },
    {
      "cell_type": "code",
      "metadata": {
        "id": "TWSlVmokGkit",
        "colab_type": "code",
        "colab": {
          "base_uri": "https://localhost:8080/",
          "height": 450
        },
        "outputId": "4b2e1e42-79c5-45e3-e363-08c441c2dbde"
      },
      "source": [
        "aluguel_residencial.groupby('Bairro')['Valor'].describe()"
      ],
      "execution_count": null,
      "outputs": [
        {
          "output_type": "execute_result",
          "data": {
            "text/html": [
              "<div>\n",
              "<style scoped>\n",
              "    .dataframe tbody tr th:only-of-type {\n",
              "        vertical-align: middle;\n",
              "    }\n",
              "\n",
              "    .dataframe tbody tr th {\n",
              "        vertical-align: top;\n",
              "    }\n",
              "\n",
              "    .dataframe thead th {\n",
              "        text-align: right;\n",
              "    }\n",
              "</style>\n",
              "<table border=\"1\" class=\"dataframe\">\n",
              "  <thead>\n",
              "    <tr style=\"text-align: right;\">\n",
              "      <th></th>\n",
              "      <th>count</th>\n",
              "      <th>mean</th>\n",
              "      <th>std</th>\n",
              "      <th>min</th>\n",
              "      <th>25%</th>\n",
              "      <th>50%</th>\n",
              "      <th>75%</th>\n",
              "      <th>max</th>\n",
              "    </tr>\n",
              "    <tr>\n",
              "      <th>Bairro</th>\n",
              "      <th></th>\n",
              "      <th></th>\n",
              "      <th></th>\n",
              "      <th></th>\n",
              "      <th></th>\n",
              "      <th></th>\n",
              "      <th></th>\n",
              "      <th></th>\n",
              "    </tr>\n",
              "  </thead>\n",
              "  <tbody>\n",
              "    <tr>\n",
              "      <th>Abolição</th>\n",
              "      <td>16.0</td>\n",
              "      <td>1195.625000</td>\n",
              "      <td>410.900941</td>\n",
              "      <td>800.0</td>\n",
              "      <td>900.0</td>\n",
              "      <td>1190.0</td>\n",
              "      <td>1200.0</td>\n",
              "      <td>2300.0</td>\n",
              "    </tr>\n",
              "    <tr>\n",
              "      <th>Alto da Boa Vista</th>\n",
              "      <td>6.0</td>\n",
              "      <td>3966.666667</td>\n",
              "      <td>5513.589273</td>\n",
              "      <td>600.0</td>\n",
              "      <td>1150.0</td>\n",
              "      <td>1725.0</td>\n",
              "      <td>3275.0</td>\n",
              "      <td>15000.0</td>\n",
              "    </tr>\n",
              "    <tr>\n",
              "      <th>Anchieta</th>\n",
              "      <td>7.0</td>\n",
              "      <td>784.285714</td>\n",
              "      <td>150.206207</td>\n",
              "      <td>600.0</td>\n",
              "      <td>695.0</td>\n",
              "      <td>700.0</td>\n",
              "      <td>900.0</td>\n",
              "      <td>1000.0</td>\n",
              "    </tr>\n",
              "    <tr>\n",
              "      <th>Andaraí</th>\n",
              "      <td>98.0</td>\n",
              "      <td>1463.030612</td>\n",
              "      <td>406.337284</td>\n",
              "      <td>700.0</td>\n",
              "      <td>1200.0</td>\n",
              "      <td>1400.0</td>\n",
              "      <td>1650.0</td>\n",
              "      <td>2950.0</td>\n",
              "    </tr>\n",
              "    <tr>\n",
              "      <th>Anil</th>\n",
              "      <td>76.0</td>\n",
              "      <td>1987.368421</td>\n",
              "      <td>1491.586510</td>\n",
              "      <td>300.0</td>\n",
              "      <td>1052.5</td>\n",
              "      <td>1345.0</td>\n",
              "      <td>2600.0</td>\n",
              "      <td>7000.0</td>\n",
              "    </tr>\n",
              "    <tr>\n",
              "      <th>...</th>\n",
              "      <td>...</td>\n",
              "      <td>...</td>\n",
              "      <td>...</td>\n",
              "      <td>...</td>\n",
              "      <td>...</td>\n",
              "      <td>...</td>\n",
              "      <td>...</td>\n",
              "      <td>...</td>\n",
              "    </tr>\n",
              "    <tr>\n",
              "      <th>Vila Valqueire</th>\n",
              "      <td>50.0</td>\n",
              "      <td>1741.800000</td>\n",
              "      <td>2162.439750</td>\n",
              "      <td>800.0</td>\n",
              "      <td>1000.0</td>\n",
              "      <td>1250.0</td>\n",
              "      <td>1675.0</td>\n",
              "      <td>16000.0</td>\n",
              "    </tr>\n",
              "    <tr>\n",
              "      <th>Vila da Penha</th>\n",
              "      <td>124.0</td>\n",
              "      <td>1220.161290</td>\n",
              "      <td>611.882320</td>\n",
              "      <td>450.0</td>\n",
              "      <td>900.0</td>\n",
              "      <td>1100.0</td>\n",
              "      <td>1300.0</td>\n",
              "      <td>4500.0</td>\n",
              "    </tr>\n",
              "    <tr>\n",
              "      <th>Vista Alegre</th>\n",
              "      <td>21.0</td>\n",
              "      <td>1087.142857</td>\n",
              "      <td>196.523354</td>\n",
              "      <td>700.0</td>\n",
              "      <td>900.0</td>\n",
              "      <td>1100.0</td>\n",
              "      <td>1200.0</td>\n",
              "      <td>1400.0</td>\n",
              "    </tr>\n",
              "    <tr>\n",
              "      <th>Zumbi</th>\n",
              "      <td>2.0</td>\n",
              "      <td>2150.000000</td>\n",
              "      <td>777.817459</td>\n",
              "      <td>1600.0</td>\n",
              "      <td>1875.0</td>\n",
              "      <td>2150.0</td>\n",
              "      <td>2425.0</td>\n",
              "      <td>2700.0</td>\n",
              "    </tr>\n",
              "    <tr>\n",
              "      <th>Água Santa</th>\n",
              "      <td>10.0</td>\n",
              "      <td>860.000000</td>\n",
              "      <td>164.654520</td>\n",
              "      <td>600.0</td>\n",
              "      <td>800.0</td>\n",
              "      <td>850.0</td>\n",
              "      <td>925.0</td>\n",
              "      <td>1200.0</td>\n",
              "    </tr>\n",
              "  </tbody>\n",
              "</table>\n",
              "<p>154 rows × 8 columns</p>\n",
              "</div>"
            ],
            "text/plain": [
              "                   count         mean          std  ...     50%     75%      max\n",
              "Bairro                                              ...                         \n",
              "Abolição            16.0  1195.625000   410.900941  ...  1190.0  1200.0   2300.0\n",
              "Alto da Boa Vista    6.0  3966.666667  5513.589273  ...  1725.0  3275.0  15000.0\n",
              "Anchieta             7.0   784.285714   150.206207  ...   700.0   900.0   1000.0\n",
              "Andaraí             98.0  1463.030612   406.337284  ...  1400.0  1650.0   2950.0\n",
              "Anil                76.0  1987.368421  1491.586510  ...  1345.0  2600.0   7000.0\n",
              "...                  ...          ...          ...  ...     ...     ...      ...\n",
              "Vila Valqueire      50.0  1741.800000  2162.439750  ...  1250.0  1675.0  16000.0\n",
              "Vila da Penha      124.0  1220.161290   611.882320  ...  1100.0  1300.0   4500.0\n",
              "Vista Alegre        21.0  1087.142857   196.523354  ...  1100.0  1200.0   1400.0\n",
              "Zumbi                2.0  2150.000000   777.817459  ...  2150.0  2425.0   2700.0\n",
              "Água Santa          10.0   860.000000   164.654520  ...   850.0   925.0   1200.0\n",
              "\n",
              "[154 rows x 8 columns]"
            ]
          },
          "metadata": {
            "tags": []
          },
          "execution_count": 3
        }
      ]
    },
    {
      "cell_type": "code",
      "metadata": {
        "id": "wbkkEeZTLoND",
        "colab_type": "code",
        "colab": {
          "base_uri": "https://localhost:8080/",
          "height": 791
        },
        "outputId": "e3ee7507-bece-4064-e9ad-e310a5ee9a32"
      },
      "source": [
        "grupo_bairro = aluguel_residencial.groupby('Bairro')\n",
        "plt.rc('figure', figsize = (20,10))\n",
        "fig = grupo_bairro['Valor'].std().plot.bar(color = 'blue')\n",
        "fig.set_ylabel('Valor do Aluguel')\n",
        "fig.set_title('Valor Médio do Aluguel por Bairro', {'fontsize': 22})"
      ],
      "execution_count": null,
      "outputs": [
        {
          "output_type": "execute_result",
          "data": {
            "text/plain": [
              "Text(0.5, 1.0, 'Valor Médio do Aluguel por Bairro')"
            ]
          },
          "metadata": {
            "tags": []
          },
          "execution_count": 4
        },
        {
          "output_type": "display_data",
          "data": {
            "image/png": "[encoded data removed]",
            "text/plain": [
              "<Figure size 1440x720 with 1 Axes>"
            ]
          },
          "metadata": {
            "tags": [],
            "needs_background": "light"
          }
        }
      ]
    },
    {
      "cell_type": "code",
      "metadata": {
        "id": "JMaX4NXdAlSu",
        "colab_type": "code",
        "colab": {}
      },
      "source": [
        "aluguel_residencial['Valor'].agg(['mean','std','min']).round(2)"
      ],
      "execution_count": null,
      "outputs": []
    },
    {
      "cell_type": "code",
      "metadata": {
        "id": "IeSw8ZcEB6wj",
        "colab_type": "code",
        "colab": {
          "base_uri": "https://localhost:8080/",
          "height": 136
        },
        "outputId": "94a57d8d-64b0-4e4f-dd66-7f3ddc75b4dc"
      },
      "source": [
        "classes = [0, 500, 1000, 2000, 3000, 4000, 99999]\n",
        "pd.cut(aluguel_residencial.Valor, classes).value_counts()"
      ],
      "execution_count": null,
      "outputs": [
        {
          "output_type": "execute_result",
          "data": {
            "text/plain": [
              "(4000, 99999]    7518\n",
              "(1000, 2000]     6308\n",
              "(2000, 3000]     4371\n",
              "(3000, 4000]     2436\n",
              "(500, 1000]      2330\n",
              "(0, 500]          142\n",
              "Name: Valor, dtype: int64"
            ]
          },
          "metadata": {
            "tags": []
          },
          "execution_count": 11
        }
      ]
    },
    {
      "cell_type": "code",
      "metadata": {
        "id": "M0LB8deVC6eg",
        "colab_type": "code",
        "colab": {
          "base_uri": "https://localhost:8080/",
          "height": 419
        },
        "outputId": "efcf3453-45f7-4522-e17b-3f555217f168"
      },
      "source": [
        "aluguel_residencial.rename(columns = {'Valor':'valores'})"
      ],
      "execution_count": null,
      "outputs": [
        {
          "output_type": "execute_result",
          "data": {
            "text/html": [
              "<div>\n",
              "<style scoped>\n",
              "    .dataframe tbody tr th:only-of-type {\n",
              "        vertical-align: middle;\n",
              "    }\n",
              "\n",
              "    .dataframe tbody tr th {\n",
              "        vertical-align: top;\n",
              "    }\n",
              "\n",
              "    .dataframe thead th {\n",
              "        text-align: right;\n",
              "    }\n",
              "</style>\n",
              "<table border=\"1\" class=\"dataframe\">\n",
              "  <thead>\n",
              "    <tr style=\"text-align: right;\">\n",
              "      <th></th>\n",
              "      <th>Tipo</th>\n",
              "      <th>Bairro</th>\n",
              "      <th>Quartos</th>\n",
              "      <th>Vagas</th>\n",
              "      <th>Suites</th>\n",
              "      <th>Area</th>\n",
              "      <th>valores</th>\n",
              "      <th>Condominio</th>\n",
              "      <th>IPTU</th>\n",
              "      <th>Tipo_agregado</th>\n",
              "      <th>Valor_m2</th>\n",
              "    </tr>\n",
              "  </thead>\n",
              "  <tbody>\n",
              "    <tr>\n",
              "      <th>0</th>\n",
              "      <td>Quitinete</td>\n",
              "      <td>Copacabana</td>\n",
              "      <td>1</td>\n",
              "      <td>0</td>\n",
              "      <td>0</td>\n",
              "      <td>40</td>\n",
              "      <td>1700.0</td>\n",
              "      <td>500.0</td>\n",
              "      <td>60.0</td>\n",
              "      <td>Apartamento</td>\n",
              "      <td>42.50</td>\n",
              "    </tr>\n",
              "    <tr>\n",
              "      <th>1</th>\n",
              "      <td>Casa</td>\n",
              "      <td>Jardim Botânico</td>\n",
              "      <td>2</td>\n",
              "      <td>0</td>\n",
              "      <td>1</td>\n",
              "      <td>100</td>\n",
              "      <td>7000.0</td>\n",
              "      <td>NaN</td>\n",
              "      <td>NaN</td>\n",
              "      <td>Casa</td>\n",
              "      <td>70.00</td>\n",
              "    </tr>\n",
              "    <tr>\n",
              "      <th>2</th>\n",
              "      <td>Apartamento</td>\n",
              "      <td>Centro</td>\n",
              "      <td>1</td>\n",
              "      <td>0</td>\n",
              "      <td>0</td>\n",
              "      <td>15</td>\n",
              "      <td>800.0</td>\n",
              "      <td>390.0</td>\n",
              "      <td>20.0</td>\n",
              "      <td>Apartamento</td>\n",
              "      <td>53.33</td>\n",
              "    </tr>\n",
              "    <tr>\n",
              "      <th>3</th>\n",
              "      <td>Apartamento</td>\n",
              "      <td>Higienópolis</td>\n",
              "      <td>1</td>\n",
              "      <td>0</td>\n",
              "      <td>0</td>\n",
              "      <td>48</td>\n",
              "      <td>800.0</td>\n",
              "      <td>230.0</td>\n",
              "      <td>NaN</td>\n",
              "      <td>Apartamento</td>\n",
              "      <td>16.67</td>\n",
              "    </tr>\n",
              "    <tr>\n",
              "      <th>4</th>\n",
              "      <td>Apartamento</td>\n",
              "      <td>Vista Alegre</td>\n",
              "      <td>3</td>\n",
              "      <td>1</td>\n",
              "      <td>0</td>\n",
              "      <td>70</td>\n",
              "      <td>1200.0</td>\n",
              "      <td>NaN</td>\n",
              "      <td>NaN</td>\n",
              "      <td>Apartamento</td>\n",
              "      <td>17.14</td>\n",
              "    </tr>\n",
              "    <tr>\n",
              "      <th>...</th>\n",
              "      <td>...</td>\n",
              "      <td>...</td>\n",
              "      <td>...</td>\n",
              "      <td>...</td>\n",
              "      <td>...</td>\n",
              "      <td>...</td>\n",
              "      <td>...</td>\n",
              "      <td>...</td>\n",
              "      <td>...</td>\n",
              "      <td>...</td>\n",
              "      <td>...</td>\n",
              "    </tr>\n",
              "    <tr>\n",
              "      <th>23116</th>\n",
              "      <td>Apartamento</td>\n",
              "      <td>Méier</td>\n",
              "      <td>2</td>\n",
              "      <td>0</td>\n",
              "      <td>0</td>\n",
              "      <td>70</td>\n",
              "      <td>900.0</td>\n",
              "      <td>490.0</td>\n",
              "      <td>48.0</td>\n",
              "      <td>Apartamento</td>\n",
              "      <td>12.86</td>\n",
              "    </tr>\n",
              "    <tr>\n",
              "      <th>23117</th>\n",
              "      <td>Quitinete</td>\n",
              "      <td>Centro</td>\n",
              "      <td>0</td>\n",
              "      <td>0</td>\n",
              "      <td>0</td>\n",
              "      <td>27</td>\n",
              "      <td>800.0</td>\n",
              "      <td>350.0</td>\n",
              "      <td>25.0</td>\n",
              "      <td>Apartamento</td>\n",
              "      <td>29.63</td>\n",
              "    </tr>\n",
              "    <tr>\n",
              "      <th>23118</th>\n",
              "      <td>Apartamento</td>\n",
              "      <td>Jacarepaguá</td>\n",
              "      <td>3</td>\n",
              "      <td>1</td>\n",
              "      <td>2</td>\n",
              "      <td>78</td>\n",
              "      <td>1800.0</td>\n",
              "      <td>800.0</td>\n",
              "      <td>40.0</td>\n",
              "      <td>Apartamento</td>\n",
              "      <td>23.08</td>\n",
              "    </tr>\n",
              "    <tr>\n",
              "      <th>23119</th>\n",
              "      <td>Apartamento</td>\n",
              "      <td>São Francisco Xavier</td>\n",
              "      <td>2</td>\n",
              "      <td>1</td>\n",
              "      <td>0</td>\n",
              "      <td>48</td>\n",
              "      <td>1400.0</td>\n",
              "      <td>509.0</td>\n",
              "      <td>37.0</td>\n",
              "      <td>Apartamento</td>\n",
              "      <td>29.17</td>\n",
              "    </tr>\n",
              "    <tr>\n",
              "      <th>23120</th>\n",
              "      <td>Apartamento</td>\n",
              "      <td>Leblon</td>\n",
              "      <td>2</td>\n",
              "      <td>0</td>\n",
              "      <td>0</td>\n",
              "      <td>70</td>\n",
              "      <td>3000.0</td>\n",
              "      <td>760.0</td>\n",
              "      <td>NaN</td>\n",
              "      <td>Apartamento</td>\n",
              "      <td>42.86</td>\n",
              "    </tr>\n",
              "  </tbody>\n",
              "</table>\n",
              "<p>23121 rows × 11 columns</p>\n",
              "</div>"
            ],
            "text/plain": [
              "              Tipo                Bairro  Quartos  ...  IPTU  Tipo_agregado  Valor_m2\n",
              "0        Quitinete            Copacabana        1  ...  60.0    Apartamento     42.50\n",
              "1             Casa       Jardim Botânico        2  ...   NaN           Casa     70.00\n",
              "2      Apartamento                Centro        1  ...  20.0    Apartamento     53.33\n",
              "3      Apartamento          Higienópolis        1  ...   NaN    Apartamento     16.67\n",
              "4      Apartamento          Vista Alegre        3  ...   NaN    Apartamento     17.14\n",
              "...            ...                   ...      ...  ...   ...            ...       ...\n",
              "23116  Apartamento                 Méier        2  ...  48.0    Apartamento     12.86\n",
              "23117    Quitinete                Centro        0  ...  25.0    Apartamento     29.63\n",
              "23118  Apartamento           Jacarepaguá        3  ...  40.0    Apartamento     23.08\n",
              "23119  Apartamento  São Francisco Xavier        2  ...  37.0    Apartamento     29.17\n",
              "23120  Apartamento                Leblon        2  ...   NaN    Apartamento     42.86\n",
              "\n",
              "[23121 rows x 11 columns]"
            ]
          },
          "metadata": {
            "tags": []
          },
          "execution_count": 12
        }
      ]
    },
    {
      "cell_type": "code",
      "metadata": {
        "id": "yeZ-3RnyA50t",
        "colab_type": "code",
        "colab": {
          "base_uri": "https://localhost:8080/",
          "height": 619
        },
        "outputId": "a025830f-bd06-4a24-8ae2-ab0c7e3bc41e"
      },
      "source": [
        "aluguel_residencial.boxplot(['Valor'])"
      ],
      "execution_count": null,
      "outputs": [
        {
          "output_type": "execute_result",
          "data": {
            "text/plain": [
              "<matplotlib.axes._subplots.AxesSubplot at 0x7fa9aaefc128>"
            ]
          },
          "metadata": {
            "tags": []
          },
          "execution_count": 7
        },
        {
          "output_type": "display_data",
          "data": {
            "image/png": "[encoded data removed]",
            "text/plain": [
              "<Figure size 1440x720 with 1 Axes>"
            ]
          },
          "metadata": {
            "tags": [],
            "needs_background": "light"
          }
        }
      ]
    },
    {
      "cell_type": "code",
      "metadata": {
        "id": "YAiF1J-XBXDH",
        "colab_type": "code",
        "colab": {}
      },
      "source": [
        "aluguel_residencial[aluguel_residencial['Valor'] >= 500000]"
      ],
      "execution_count": null,
      "outputs": []
    },
    {
      "cell_type": "code",
      "metadata": {
        "id": "mCdfCJQABy4C",
        "colab_type": "code",
        "colab": {}
      },
      "source": [
        "Q1 = aluguel_residencial['Valor'].quantile(0.25)\n",
        "Q3 = aluguel_residencial['Valor'].quantile(0.75)\n",
        "IQ = Q3 - Q1\n",
        "LI = Q1 - 1.5*IQ\n",
        "LS = Q3 + 1.5*IQ"
      ],
      "execution_count": null,
      "outputs": []
    },
    {
      "cell_type": "code",
      "metadata": {
        "id": "-BCjFoGyCUg1",
        "colab_type": "code",
        "colab": {
          "base_uri": "https://localhost:8080/",
          "height": 419
        },
        "outputId": "b7ce1501-ab18-49d7-9af7-881f5b9996db"
      },
      "source": [
        "selecao = (aluguel_residencial['Valor'] >= LI) & (aluguel_residencial['Valor'] <= LS)\n",
        "aluguel_tratado = aluguel_residencial[selecao]\n",
        "aluguel_tratado"
      ],
      "execution_count": null,
      "outputs": [
        {
          "output_type": "execute_result",
          "data": {
            "text/html": [
              "<div>\n",
              "<style scoped>\n",
              "    .dataframe tbody tr th:only-of-type {\n",
              "        vertical-align: middle;\n",
              "    }\n",
              "\n",
              "    .dataframe tbody tr th {\n",
              "        vertical-align: top;\n",
              "    }\n",
              "\n",
              "    .dataframe thead th {\n",
              "        text-align: right;\n",
              "    }\n",
              "</style>\n",
              "<table border=\"1\" class=\"dataframe\">\n",
              "  <thead>\n",
              "    <tr style=\"text-align: right;\">\n",
              "      <th></th>\n",
              "      <th>Tipo</th>\n",
              "      <th>Bairro</th>\n",
              "      <th>Quartos</th>\n",
              "      <th>Vagas</th>\n",
              "      <th>Suites</th>\n",
              "      <th>Area</th>\n",
              "      <th>Valor</th>\n",
              "      <th>Condominio</th>\n",
              "      <th>IPTU</th>\n",
              "      <th>Tipo_agregado</th>\n",
              "      <th>Valor_m2</th>\n",
              "    </tr>\n",
              "  </thead>\n",
              "  <tbody>\n",
              "    <tr>\n",
              "      <th>0</th>\n",
              "      <td>Quitinete</td>\n",
              "      <td>Copacabana</td>\n",
              "      <td>1</td>\n",
              "      <td>0</td>\n",
              "      <td>0</td>\n",
              "      <td>40</td>\n",
              "      <td>1700.0</td>\n",
              "      <td>500.0</td>\n",
              "      <td>60.0</td>\n",
              "      <td>Apartamento</td>\n",
              "      <td>42.50</td>\n",
              "    </tr>\n",
              "    <tr>\n",
              "      <th>1</th>\n",
              "      <td>Casa</td>\n",
              "      <td>Jardim Botânico</td>\n",
              "      <td>2</td>\n",
              "      <td>0</td>\n",
              "      <td>1</td>\n",
              "      <td>100</td>\n",
              "      <td>7000.0</td>\n",
              "      <td>NaN</td>\n",
              "      <td>NaN</td>\n",
              "      <td>Casa</td>\n",
              "      <td>70.00</td>\n",
              "    </tr>\n",
              "    <tr>\n",
              "      <th>2</th>\n",
              "      <td>Apartamento</td>\n",
              "      <td>Centro</td>\n",
              "      <td>1</td>\n",
              "      <td>0</td>\n",
              "      <td>0</td>\n",
              "      <td>15</td>\n",
              "      <td>800.0</td>\n",
              "      <td>390.0</td>\n",
              "      <td>20.0</td>\n",
              "      <td>Apartamento</td>\n",
              "      <td>53.33</td>\n",
              "    </tr>\n",
              "    <tr>\n",
              "      <th>3</th>\n",
              "      <td>Apartamento</td>\n",
              "      <td>Higienópolis</td>\n",
              "      <td>1</td>\n",
              "      <td>0</td>\n",
              "      <td>0</td>\n",
              "      <td>48</td>\n",
              "      <td>800.0</td>\n",
              "      <td>230.0</td>\n",
              "      <td>NaN</td>\n",
              "      <td>Apartamento</td>\n",
              "      <td>16.67</td>\n",
              "    </tr>\n",
              "    <tr>\n",
              "      <th>4</th>\n",
              "      <td>Apartamento</td>\n",
              "      <td>Vista Alegre</td>\n",
              "      <td>3</td>\n",
              "      <td>1</td>\n",
              "      <td>0</td>\n",
              "      <td>70</td>\n",
              "      <td>1200.0</td>\n",
              "      <td>NaN</td>\n",
              "      <td>NaN</td>\n",
              "      <td>Apartamento</td>\n",
              "      <td>17.14</td>\n",
              "    </tr>\n",
              "    <tr>\n",
              "      <th>...</th>\n",
              "      <td>...</td>\n",
              "      <td>...</td>\n",
              "      <td>...</td>\n",
              "      <td>...</td>\n",
              "      <td>...</td>\n",
              "      <td>...</td>\n",
              "      <td>...</td>\n",
              "      <td>...</td>\n",
              "      <td>...</td>\n",
              "      <td>...</td>\n",
              "      <td>...</td>\n",
              "    </tr>\n",
              "    <tr>\n",
              "      <th>23116</th>\n",
              "      <td>Apartamento</td>\n",
              "      <td>Méier</td>\n",
              "      <td>2</td>\n",
              "      <td>0</td>\n",
              "      <td>0</td>\n",
              "      <td>70</td>\n",
              "      <td>900.0</td>\n",
              "      <td>490.0</td>\n",
              "      <td>48.0</td>\n",
              "      <td>Apartamento</td>\n",
              "      <td>12.86</td>\n",
              "    </tr>\n",
              "    <tr>\n",
              "      <th>23117</th>\n",
              "      <td>Quitinete</td>\n",
              "      <td>Centro</td>\n",
              "      <td>0</td>\n",
              "      <td>0</td>\n",
              "      <td>0</td>\n",
              "      <td>27</td>\n",
              "      <td>800.0</td>\n",
              "      <td>350.0</td>\n",
              "      <td>25.0</td>\n",
              "      <td>Apartamento</td>\n",
              "      <td>29.63</td>\n",
              "    </tr>\n",
              "    <tr>\n",
              "      <th>23118</th>\n",
              "      <td>Apartamento</td>\n",
              "      <td>Jacarepaguá</td>\n",
              "      <td>3</td>\n",
              "      <td>1</td>\n",
              "      <td>2</td>\n",
              "      <td>78</td>\n",
              "      <td>1800.0</td>\n",
              "      <td>800.0</td>\n",
              "      <td>40.0</td>\n",
              "      <td>Apartamento</td>\n",
              "      <td>23.08</td>\n",
              "    </tr>\n",
              "    <tr>\n",
              "      <th>23119</th>\n",
              "      <td>Apartamento</td>\n",
              "      <td>São Francisco Xavier</td>\n",
              "      <td>2</td>\n",
              "      <td>1</td>\n",
              "      <td>0</td>\n",
              "      <td>48</td>\n",
              "      <td>1400.0</td>\n",
              "      <td>509.0</td>\n",
              "      <td>37.0</td>\n",
              "      <td>Apartamento</td>\n",
              "      <td>29.17</td>\n",
              "    </tr>\n",
              "    <tr>\n",
              "      <th>23120</th>\n",
              "      <td>Apartamento</td>\n",
              "      <td>Leblon</td>\n",
              "      <td>2</td>\n",
              "      <td>0</td>\n",
              "      <td>0</td>\n",
              "      <td>70</td>\n",
              "      <td>3000.0</td>\n",
              "      <td>760.0</td>\n",
              "      <td>NaN</td>\n",
              "      <td>Apartamento</td>\n",
              "      <td>42.86</td>\n",
              "    </tr>\n",
              "  </tbody>\n",
              "</table>\n",
              "<p>21033 rows × 11 columns</p>\n",
              "</div>"
            ],
            "text/plain": [
              "              Tipo                Bairro  Quartos  ...  IPTU  Tipo_agregado  Valor_m2\n",
              "0        Quitinete            Copacabana        1  ...  60.0    Apartamento     42.50\n",
              "1             Casa       Jardim Botânico        2  ...   NaN           Casa     70.00\n",
              "2      Apartamento                Centro        1  ...  20.0    Apartamento     53.33\n",
              "3      Apartamento          Higienópolis        1  ...   NaN    Apartamento     16.67\n",
              "4      Apartamento          Vista Alegre        3  ...   NaN    Apartamento     17.14\n",
              "...            ...                   ...      ...  ...   ...            ...       ...\n",
              "23116  Apartamento                 Méier        2  ...  48.0    Apartamento     12.86\n",
              "23117    Quitinete                Centro        0  ...  25.0    Apartamento     29.63\n",
              "23118  Apartamento           Jacarepaguá        3  ...  40.0    Apartamento     23.08\n",
              "23119  Apartamento  São Francisco Xavier        2  ...  37.0    Apartamento     29.17\n",
              "23120  Apartamento                Leblon        2  ...   NaN    Apartamento     42.86\n",
              "\n",
              "[21033 rows x 11 columns]"
            ]
          },
          "metadata": {
            "tags": []
          },
          "execution_count": 17
        }
      ]
    },
    {
      "cell_type": "code",
      "metadata": {
        "id": "9zarkUJcDCtr",
        "colab_type": "code",
        "colab": {
          "base_uri": "https://localhost:8080/",
          "height": 641
        },
        "outputId": "db27c935-9dec-415f-91ed-dd26e13357af"
      },
      "source": [
        "aluguel_tratado.hist(['Valor'])"
      ],
      "execution_count": null,
      "outputs": [
        {
          "output_type": "execute_result",
          "data": {
            "text/plain": [
              "array([[<matplotlib.axes._subplots.AxesSubplot object at 0x7fa9a982dcf8>]],\n",
              "      dtype=object)"
            ]
          },
          "metadata": {
            "tags": []
          },
          "execution_count": 18
        },
        {
          "output_type": "display_data",
          "data": {
            "image/png": "[encoded data removed]",
            "text/plain": [
              "<Figure size 1440x720 with 1 Axes>"
            ]
          },
          "metadata": {
            "tags": [],
            "needs_background": "light"
          }
        }
      ]
    },
    {
      "cell_type": "code",
      "metadata": {
        "id": "iAU8iUSaDw_w",
        "colab_type": "code",
        "colab": {}
      },
      "source": [
        "amostra = pd.read_csv('aluguel_amostra.csv', sep=\";\")\n",
        "amostra.head(10)"
      ],
      "execution_count": null,
      "outputs": []
    },
    {
      "cell_type": "code",
      "metadata": {
        "id": "F1ptPOwEEB4F",
        "colab_type": "code",
        "colab": {
          "base_uri": "https://localhost:8080/",
          "height": 34
        },
        "outputId": "dfaf3524-ef47-4d47-df9a-9676ba2aa33c"
      },
      "source": [
        "Q1 = amostra['Valor m2'].quantile(0.25)\n",
        "Q3 = amostra['Valor m2'].quantile(0.75)\n",
        "IQ = Q3 - Q1\n",
        "LI = Q1 - 1.5*IQ\n",
        "LS = Q3 + 1.5*IQ\n",
        "print(Q1, Q3, IQ, LI, LS)"
      ],
      "execution_count": null,
      "outputs": [
        {
          "output_type": "stream",
          "text": [
            "21.25 42.31 21.060000000000002 -10.340000000000003 73.9\n"
          ],
          "name": "stdout"
        }
      ]
    },
    {
      "cell_type": "code",
      "metadata": {
        "id": "PbBcUzsSGNUT",
        "colab_type": "code",
        "colab": {}
      },
      "source": [
        "aluguel_residencial.boxplot(['Valor'], by='Tipo')"
      ],
      "execution_count": null,
      "outputs": []
    },
    {
      "cell_type": "code",
      "metadata": {
        "id": "nPtNoS7HGb4o",
        "colab_type": "code",
        "colab": {
          "base_uri": "https://localhost:8080/",
          "height": 34
        },
        "outputId": "5d26a999-ae89-4833-b2b7-d01d0821c134"
      },
      "source": [
        "grupos_tipo = aluguel_residencial.groupby('Tipo')['Valor']\n",
        "grupos_tipo.groups.keys()"
      ],
      "execution_count": null,
      "outputs": [
        {
          "output_type": "execute_result",
          "data": {
            "text/plain": [
              "dict_keys(['Apartamento', 'Casa', 'Casa de Condomínio', 'Casa de Vila', 'Flat', 'Loft', 'Quitinete', 'Studio', 'Sítio'])"
            ]
          },
          "metadata": {
            "tags": []
          },
          "execution_count": 34
        }
      ]
    },
    {
      "cell_type": "code",
      "metadata": {
        "id": "eC9qYyKIG8Ga",
        "colab_type": "code",
        "colab": {}
      },
      "source": [
        "Q1 =  grupos_tipo.quantile(.25)\n",
        "Q3 =  grupos_tipo.quantile(.75)\n",
        "IIQ = Q3 - Q1\n",
        "limite_inferior = Q1 - 1.5 * IIQ\n",
        "limite_superior = Q3 + 1.5 * IIQ"
      ],
      "execution_count": null,
      "outputs": []
    },
    {
      "cell_type": "code",
      "metadata": {
        "id": "J8WynKzFG-iK",
        "colab_type": "code",
        "colab": {}
      },
      "source": [
        "dados_new = pd.DataFrame()\n",
        "for tipo in grupos_tipo.groups.keys():\n",
        "  eh_tipo = aluguel_residencial['Tipo'] == tipo\n",
        "  eh_dentro_limites = (aluguel_residencial['Valor'] >= limite_inferior[tipo]) & (aluguel_residencial['Valor'] <= limite_superior[tipo])\n",
        "  selecao = eh_tipo & eh_dentro_limites\n",
        "  dados_selecao = aluguel_residencial[selecao]\n",
        "  dados_new = pd.concat([dados_new, dados_selecao])\n",
        "dados_new.head(10)"
      ],
      "execution_count": null,
      "outputs": []
    },
    {
      "cell_type": "code",
      "metadata": {
        "id": "pBaXOs9kIgaj",
        "colab_type": "code",
        "colab": {}
      },
      "source": [
        "dados_new.boxplot(['Valor'], by='Tipo')"
      ],
      "execution_count": null,
      "outputs": []
    },
    {
      "cell_type": "code",
      "metadata": {
        "id": "dOqLRk3fIpKv",
        "colab_type": "code",
        "colab": {}
      },
      "source": [
        "dados_new.to_csv(\"residencial_tratado.csv\", sep=\";\", index=False)"
      ],
      "execution_count": null,
      "outputs": []
    },
    {
      "cell_type": "code",
      "metadata": {
        "id": "qdXUAACdA41u",
        "colab_type": "code",
        "colab": {}
      },
      "source": [
        "dados = pd.read_csv(\"residencial_tratado.csv\", sep=\";\")\n",
        "dados.head(10)"
      ],
      "execution_count": null,
      "outputs": []
    },
    {
      "cell_type": "code",
      "metadata": {
        "id": "gs-akT4WDkLm",
        "colab_type": "code",
        "colab": {
          "base_uri": "https://localhost:8080/",
          "height": 516
        },
        "outputId": "9d2178e2-298f-4d6f-bc2d-611337d510fa"
      },
      "source": [
        "plt.rc('figure', figsize = (15,8))\n",
        "area = plt.figure()\n",
        "g1 = area.add_subplot(2,2,1)\n",
        "g2 = area.add_subplot(2,2,2)\n",
        "g3 = area.add_subplot(2,2,3)\n",
        "g4 = area.add_subplot(2,2,4)\n",
        "\n",
        "g1.scatter(dados.Area, dados.Valor)\n",
        "g1.set_title('Valor x Area')\n",
        "\n",
        "g2.hist(dados.Valor)\n",
        "g2.set_title('Histograma')\n",
        "\n",
        "dados_g3 = dados.Valor.sample(100)\n",
        "dados_g3.index = range(dados_g3.shape[0])\n",
        "g3.plot(dados_g3)\n",
        "g3.set_title('Amostra (Valor)')\n",
        "\n",
        "grupo = dados.groupby('Tipo')['Valor'].mean().sort_values(ascending=False)\n",
        "label = grupo.index\n",
        "valores = grupo.values\n",
        "g4.bar(label, valores)\n",
        "g4.set_title('Valor Médio por Tipo')"
      ],
      "execution_count": null,
      "outputs": [
        {
          "output_type": "execute_result",
          "data": {
            "text/plain": [
              "Text(0.5, 1.0, 'Valor Médio por Tipo')"
            ]
          },
          "metadata": {
            "tags": []
          },
          "execution_count": 43
        },
        {
          "output_type": "display_data",
          "data": {
            "image/png": "[encoded data removed]",
            "text/plain": [
              "<Figure size 1080x576 with 4 Axes>"
            ]
          },
          "metadata": {
            "tags": [],
            "needs_background": "light"
          }
        }
      ]
    },
    {
      "cell_type": "code",
      "metadata": {
        "id": "9uw-kKfeHFd3",
        "colab_type": "code",
        "colab": {}
      },
      "source": [
        "area.savefig('graficos.png', dpi = 300, bbox_inches = 'tight')"
      ],
      "execution_count": null,
      "outputs": []
    }
  ]
}